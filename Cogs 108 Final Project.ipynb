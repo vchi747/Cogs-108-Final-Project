{
 "cells": [
  {
   "cell_type": "markdown",
   "metadata": {},
   "source": [
    "# Cogs 108 Final Project - How has Gun Violence Affect the Polls"
   ]
  },
  {
   "cell_type": "markdown",
   "metadata": {},
   "source": [
    "### Group Members and Contributions\n",
    "- Victor Chi(A14489640)\n",
    "- Evan Kay (A)\n",
    "- Weilin Liu(A14713406)\n",
    "- Christopher Rocha(A92080262)"
   ]
  },
  {
   "cell_type": "markdown",
   "metadata": {},
   "source": [
    "## Indroduction and Background"
   ]
  },
  {
   "cell_type": "markdown",
   "metadata": {},
   "source": [
    "### Background"
   ]
  },
  {
   "cell_type": "markdown",
   "metadata": {},
   "source": [
    "Gun violence has become a very hot topic lately due to the mass shootings at schools, concerts, and even in our own neighborhoods. It has emboldened both sides of the political spectrum; driving many to the polls to vote their beliefs and demand changes to the system. Even though this issue is a very controversial topic, we can not deny how it has greatly polarized this nation and caused a great schism between conservatives and liberals, Democrats and Republicans. On that note, we wanted to tackle this trend and see how congressional districts have changed due to gun violence; ultimately seeing who is the dominant party of the state. There are many articles and research on the internet, due to it being a hot topic, but it is very divided and has not reached a final verdict. That is why we want to use data to guide us in a path that will triangulate us to the right conclusions and possibly see how a district will swing based on the increase or decrease of gun violence. "
   ]
  },
  {
   "cell_type": "markdown",
   "metadata": {},
   "source": [
    "### Research Question\n",
    "How does gun violence in each state affect how voters vote, either Democrat or Republican, when election day comes along?"
   ]
  },
  {
   "cell_type": "markdown",
   "metadata": {},
   "source": [
    "### Hypothesis\n",
    "We believe that states with a higher rate of gun violence will tend to vote more Democrat, while states with less gun violence will tend to vote more Republican."
   ]
  },
  {
   "cell_type": "markdown",
   "metadata": {},
   "source": [
    "### Datasets\n",
    "Contains information about gun violence in each congressional district since 2012\n",
    "- Dataset Name: Gun Violence Data\n",
    "- Link to Dataset: https://www.kaggle.com/jameslko/gun-violence-data/home\n",
    "- Number of observations: over 260k\n",
    "\n",
    "Contains results of congressional voting data for each district\n",
    "- Dataset Name: Congressional Voting Data\n",
    "- Link to Dataset: http://library.cqpress.com/elections/download-data.php?filetype=&office=3&areatype=1&year=20122020&format=3&license=on&emailto=&emailfrom=\n",
    "- Number of observations:  1600\n"
   ]
  },
  {
   "cell_type": "markdown",
   "metadata": {},
   "source": [
    "## Dataset Cleaning"
   ]
  },
  {
   "cell_type": "code",
   "execution_count": 1,
   "metadata": {},
   "outputs": [],
   "source": [
    "#Packages needed to clean the dataset\n",
    "import numpy as np\n",
    "import pandas as pd\n",
    "import matplotlib.pyplot as plt\n",
    "#from datascience import *"
   ]
  },
  {
   "cell_type": "markdown",
   "metadata": {},
   "source": [
    "### Cleaning Congressional Voting Data\n",
    "The congressional voting data was a very difficult dataset to obtain due to the website's limitations. It only allowed the user to download a certain amount of states at a time, so as a result the states had to be downloaded in multiple files. To clean our data efficiently we will: \n",
    "- Read in all our datasets one by one as csv files.\n",
    "- Concatenate them all together so cleaning the dataset as one will be much faster.\n",
    "- Remove all columns except for the state, raceYear, and party winner.\n",
    "- Remove NaN and other titles that were considered as rows, when the data sets were concatenated together.\n"
   ]
  },
  {
   "cell_type": "code",
   "execution_count": 2,
   "metadata": {},
   "outputs": [
    {
     "data": {
      "text/html": [
       "<div>\n",
       "<style scoped>\n",
       "    .dataframe tbody tr th:only-of-type {\n",
       "        vertical-align: middle;\n",
       "    }\n",
       "\n",
       "    .dataframe tbody tr th {\n",
       "        vertical-align: top;\n",
       "    }\n",
       "\n",
       "    .dataframe thead th {\n",
       "        text-align: right;\n",
       "    }\n",
       "</style>\n",
       "<table border=\"1\" class=\"dataframe\">\n",
       "  <thead>\n",
       "    <tr style=\"text-align: right;\">\n",
       "      <th></th>\n",
       "      <th>Office</th>\n",
       "      <th>State</th>\n",
       "      <th>CensusPop</th>\n",
       "      <th>raceYear</th>\n",
       "      <th>Area</th>\n",
       "      <th>AreaNumber</th>\n",
       "      <th>RedistrictedDate</th>\n",
       "      <th>RepVotes</th>\n",
       "      <th>RepCandidate</th>\n",
       "      <th>RepStatus</th>\n",
       "      <th>...</th>\n",
       "      <th>ThirdVotes</th>\n",
       "      <th>ThirdCandidate</th>\n",
       "      <th>ThirdStatus</th>\n",
       "      <th>OtherVotes</th>\n",
       "      <th>PluralityVotes</th>\n",
       "      <th>PluralityParty</th>\n",
       "      <th>ThirdVotesTotalPercent</th>\n",
       "      <th>RepVotesMajorPercent</th>\n",
       "      <th>DemVotesMajorPercent</th>\n",
       "      <th>RaceNotes</th>\n",
       "    </tr>\n",
       "  </thead>\n",
       "  <tbody>\n",
       "    <tr>\n",
       "      <th>0</th>\n",
       "      <td>House</td>\n",
       "      <td>Alabama</td>\n",
       "      <td>NaN</td>\n",
       "      <td>2018.0</td>\n",
       "      <td>District 1</td>\n",
       "      <td>1.0</td>\n",
       "      <td>20120101.0</td>\n",
       "      <td>153,228</td>\n",
       "      <td>Byrne, Bradley</td>\n",
       "      <td>Incumbent</td>\n",
       "      <td>...</td>\n",
       "      <td>163</td>\n",
       "      <td>Write-In</td>\n",
       "      <td>Challenger</td>\n",
       "      <td>NaN</td>\n",
       "      <td>64,002</td>\n",
       "      <td>R</td>\n",
       "      <td>0.07</td>\n",
       "      <td>63.20</td>\n",
       "      <td>36.80</td>\n",
       "      <td>NaN</td>\n",
       "    </tr>\n",
       "    <tr>\n",
       "      <th>1</th>\n",
       "      <td>House</td>\n",
       "      <td>Alabama</td>\n",
       "      <td>NaN</td>\n",
       "      <td>2016.0</td>\n",
       "      <td>District 1</td>\n",
       "      <td>1.0</td>\n",
       "      <td>20120101.0</td>\n",
       "      <td>208,083</td>\n",
       "      <td>Byrne, Bradley</td>\n",
       "      <td>Incumbent</td>\n",
       "      <td>...</td>\n",
       "      <td>7,810</td>\n",
       "      <td>Write-In</td>\n",
       "      <td>Challenger</td>\n",
       "      <td>NaN</td>\n",
       "      <td>200,273</td>\n",
       "      <td>R</td>\n",
       "      <td>3.62</td>\n",
       "      <td>100.00</td>\n",
       "      <td>0.00</td>\n",
       "      <td>NaN</td>\n",
       "    </tr>\n",
       "    <tr>\n",
       "      <th>2</th>\n",
       "      <td>House</td>\n",
       "      <td>Alabama</td>\n",
       "      <td>NaN</td>\n",
       "      <td>2014.0</td>\n",
       "      <td>District 1</td>\n",
       "      <td>1.0</td>\n",
       "      <td>20120101.0</td>\n",
       "      <td>103,758</td>\n",
       "      <td>Byrne, Bradley</td>\n",
       "      <td>Incumbent</td>\n",
       "      <td>...</td>\n",
       "      <td>198</td>\n",
       "      <td>Write-In</td>\n",
       "      <td>Challenger</td>\n",
       "      <td>NaN</td>\n",
       "      <td>55,480</td>\n",
       "      <td>R</td>\n",
       "      <td>0.13</td>\n",
       "      <td>68.25</td>\n",
       "      <td>31.75</td>\n",
       "      <td>NaN</td>\n",
       "    </tr>\n",
       "    <tr>\n",
       "      <th>3</th>\n",
       "      <td>House</td>\n",
       "      <td>Alabama</td>\n",
       "      <td>NaN</td>\n",
       "      <td>2012.0</td>\n",
       "      <td>District 1</td>\n",
       "      <td>1.0</td>\n",
       "      <td>20120101.0</td>\n",
       "      <td>196,374</td>\n",
       "      <td>Bonner, Josiah Robbins Jr.</td>\n",
       "      <td>Incumbent</td>\n",
       "      <td>...</td>\n",
       "      <td>4,302</td>\n",
       "      <td>Scattered Write-In</td>\n",
       "      <td>Challenger</td>\n",
       "      <td>NaN</td>\n",
       "      <td>192,072</td>\n",
       "      <td>R</td>\n",
       "      <td>2.14</td>\n",
       "      <td>100.00</td>\n",
       "      <td>0.00</td>\n",
       "      <td>NaN</td>\n",
       "    </tr>\n",
       "    <tr>\n",
       "      <th>4</th>\n",
       "      <td>House</td>\n",
       "      <td>Alabama</td>\n",
       "      <td>NaN</td>\n",
       "      <td>2018.0</td>\n",
       "      <td>District 2</td>\n",
       "      <td>2.0</td>\n",
       "      <td>20120101.0</td>\n",
       "      <td>138,879</td>\n",
       "      <td>Roby, Martha</td>\n",
       "      <td>Incumbent</td>\n",
       "      <td>...</td>\n",
       "      <td>420</td>\n",
       "      <td>Write-In</td>\n",
       "      <td>Challenger</td>\n",
       "      <td>NaN</td>\n",
       "      <td>51,948</td>\n",
       "      <td>R</td>\n",
       "      <td>0.19</td>\n",
       "      <td>61.50</td>\n",
       "      <td>38.50</td>\n",
       "      <td>NaN</td>\n",
       "    </tr>\n",
       "  </tbody>\n",
       "</table>\n",
       "<p>5 rows × 24 columns</p>\n",
       "</div>"
      ],
      "text/plain": [
       "  Office    State  CensusPop  raceYear        Area  AreaNumber  \\\n",
       "0  House  Alabama        NaN    2018.0  District 1         1.0   \n",
       "1  House  Alabama        NaN    2016.0  District 1         1.0   \n",
       "2  House  Alabama        NaN    2014.0  District 1         1.0   \n",
       "3  House  Alabama        NaN    2012.0  District 1         1.0   \n",
       "4  House  Alabama        NaN    2018.0  District 2         2.0   \n",
       "\n",
       "   RedistrictedDate RepVotes                RepCandidate  RepStatus  ...  \\\n",
       "0        20120101.0  153,228              Byrne, Bradley  Incumbent  ...   \n",
       "1        20120101.0  208,083              Byrne, Bradley  Incumbent  ...   \n",
       "2        20120101.0  103,758              Byrne, Bradley  Incumbent  ...   \n",
       "3        20120101.0  196,374  Bonner, Josiah Robbins Jr.  Incumbent  ...   \n",
       "4        20120101.0  138,879                Roby, Martha  Incumbent  ...   \n",
       "\n",
       "  ThirdVotes      ThirdCandidate ThirdStatus OtherVotes PluralityVotes  \\\n",
       "0        163            Write-In  Challenger        NaN         64,002   \n",
       "1      7,810            Write-In  Challenger        NaN        200,273   \n",
       "2        198            Write-In  Challenger        NaN         55,480   \n",
       "3      4,302  Scattered Write-In  Challenger        NaN        192,072   \n",
       "4        420            Write-In  Challenger        NaN         51,948   \n",
       "\n",
       "  PluralityParty ThirdVotesTotalPercent  RepVotesMajorPercent  \\\n",
       "0              R                   0.07                 63.20   \n",
       "1              R                   3.62                100.00   \n",
       "2              R                   0.13                 68.25   \n",
       "3              R                   2.14                100.00   \n",
       "4              R                   0.19                 61.50   \n",
       "\n",
       "  DemVotesMajorPercent RaceNotes  \n",
       "0                36.80       NaN  \n",
       "1                 0.00       NaN  \n",
       "2                31.75       NaN  \n",
       "3                 0.00       NaN  \n",
       "4                38.50       NaN  \n",
       "\n",
       "[5 rows x 24 columns]"
      ]
     },
     "execution_count": 2,
     "metadata": {},
     "output_type": "execute_result"
    }
   ],
   "source": [
    "# Reading in all voting records\n",
    "states_1 = pd.read_csv(\"Alabama.csv\",skiprows= 2)\n",
    "states_2 = pd.read_csv('Alaska-Hawaii.csv', skiprows =2)\n",
    "states_3 = pd.read_csv('Idaho-Massachusets.csv', skiprows = 2)\n",
    "states_4 = pd.read_csv('Michigan to New Mexico.csv', skiprows = 2)\n",
    "states_5 = pd.read_csv('New York-South Dakota.csv', skiprows = 2)\n",
    "states_6 = pd.read_csv('Tennesee-Wyoming.csv', skiprows = 2)\n",
    "states_1.head()"
   ]
  },
  {
   "cell_type": "code",
   "execution_count": 3,
   "metadata": {},
   "outputs": [],
   "source": [
    "# Concatenating all the states together\n",
    "final_states = pd.concat([states_1, states_2,states_3,states_4,states_5,states_6])"
   ]
  },
  {
   "cell_type": "code",
   "execution_count": 48,
   "metadata": {},
   "outputs": [
    {
     "name": "stderr",
     "output_type": "stream",
     "text": [
      "C:\\Users\\Victor Chi\\Anaconda3\\lib\\site-packages\\ipykernel_launcher.py:4: SettingWithCopyWarning: \n",
      "A value is trying to be set on a copy of a slice from a DataFrame.\n",
      "Try using .loc[row_indexer,col_indexer] = value instead\n",
      "\n",
      "See the caveats in the documentation: http://pandas.pydata.org/pandas-docs/stable/indexing.html#indexing-view-versus-copy\n",
      "  after removing the cwd from sys.path.\n"
     ]
    },
    {
     "data": {
      "text/html": [
       "<div>\n",
       "<style scoped>\n",
       "    .dataframe tbody tr th:only-of-type {\n",
       "        vertical-align: middle;\n",
       "    }\n",
       "\n",
       "    .dataframe tbody tr th {\n",
       "        vertical-align: top;\n",
       "    }\n",
       "\n",
       "    .dataframe thead th {\n",
       "        text-align: right;\n",
       "    }\n",
       "</style>\n",
       "<table border=\"1\" class=\"dataframe\">\n",
       "  <thead>\n",
       "    <tr style=\"text-align: right;\">\n",
       "      <th></th>\n",
       "      <th>State</th>\n",
       "      <th>PluralityParty</th>\n",
       "      <th>raceYear</th>\n",
       "    </tr>\n",
       "  </thead>\n",
       "  <tbody>\n",
       "    <tr>\n",
       "      <th>0</th>\n",
       "      <td>Alabama</td>\n",
       "      <td>R</td>\n",
       "      <td>2018</td>\n",
       "    </tr>\n",
       "    <tr>\n",
       "      <th>1</th>\n",
       "      <td>Alabama</td>\n",
       "      <td>R</td>\n",
       "      <td>2016</td>\n",
       "    </tr>\n",
       "    <tr>\n",
       "      <th>2</th>\n",
       "      <td>Alabama</td>\n",
       "      <td>R</td>\n",
       "      <td>2014</td>\n",
       "    </tr>\n",
       "    <tr>\n",
       "      <th>3</th>\n",
       "      <td>Alabama</td>\n",
       "      <td>R</td>\n",
       "      <td>2012</td>\n",
       "    </tr>\n",
       "    <tr>\n",
       "      <th>4</th>\n",
       "      <td>Alabama</td>\n",
       "      <td>R</td>\n",
       "      <td>2018</td>\n",
       "    </tr>\n",
       "  </tbody>\n",
       "</table>\n",
       "</div>"
      ],
      "text/plain": [
       "     State PluralityParty  raceYear\n",
       "0  Alabama              R      2018\n",
       "1  Alabama              R      2016\n",
       "2  Alabama              R      2014\n",
       "3  Alabama              R      2012\n",
       "4  Alabama              R      2018"
      ]
     },
     "execution_count": 48,
     "metadata": {},
     "output_type": "execute_result"
    }
   ],
   "source": [
    "# Cleaning dataset\n",
    "congressional_data = final_states[['State','PluralityParty','raceYear']].dropna()\n",
    "cleaned_congressional_data = congressional_data[congressional_data['State'] != 'State']\n",
    "cleaned_congressional_data['raceYear'] = cleaned_congressional_data['raceYear'].astype(int)\n",
    "cleaned_congressional_data.head()"
   ]
  },
  {
   "cell_type": "markdown",
   "metadata": {},
   "source": [
    "### Cleaning Gun Violence Data\n",
    "The gun violence data set was already pretty clean since we obtained it from kaggle. However, it included a lot of information that we did not need to do our exploratory analysis. To clean our data we will:\n",
    "- Read in our dataset\n",
    "- Remove all columns except for the state and date\n",
    "- Drop rows with NaN because they will not provide us with information we want"
   ]
  },
  {
   "cell_type": "code",
   "execution_count": 5,
   "metadata": {},
   "outputs": [
    {
     "data": {
      "text/html": [
       "<div>\n",
       "<style scoped>\n",
       "    .dataframe tbody tr th:only-of-type {\n",
       "        vertical-align: middle;\n",
       "    }\n",
       "\n",
       "    .dataframe tbody tr th {\n",
       "        vertical-align: top;\n",
       "    }\n",
       "\n",
       "    .dataframe thead th {\n",
       "        text-align: right;\n",
       "    }\n",
       "</style>\n",
       "<table border=\"1\" class=\"dataframe\">\n",
       "  <thead>\n",
       "    <tr style=\"text-align: right;\">\n",
       "      <th></th>\n",
       "      <th>state</th>\n",
       "      <th>Year</th>\n",
       "    </tr>\n",
       "  </thead>\n",
       "  <tbody>\n",
       "    <tr>\n",
       "      <th>0</th>\n",
       "      <td>Pennsylvania</td>\n",
       "      <td>2013</td>\n",
       "    </tr>\n",
       "    <tr>\n",
       "      <th>1</th>\n",
       "      <td>California</td>\n",
       "      <td>2013</td>\n",
       "    </tr>\n",
       "    <tr>\n",
       "      <th>2</th>\n",
       "      <td>Ohio</td>\n",
       "      <td>2013</td>\n",
       "    </tr>\n",
       "    <tr>\n",
       "      <th>3</th>\n",
       "      <td>Colorado</td>\n",
       "      <td>2013</td>\n",
       "    </tr>\n",
       "    <tr>\n",
       "      <th>4</th>\n",
       "      <td>North Carolina</td>\n",
       "      <td>2013</td>\n",
       "    </tr>\n",
       "  </tbody>\n",
       "</table>\n",
       "</div>"
      ],
      "text/plain": [
       "            state  Year\n",
       "0    Pennsylvania  2013\n",
       "1      California  2013\n",
       "2            Ohio  2013\n",
       "3        Colorado  2013\n",
       "4  North Carolina  2013"
      ]
     },
     "execution_count": 5,
     "metadata": {},
     "output_type": "execute_result"
    }
   ],
   "source": [
    "# Reading in Gun violence data\n",
    "gun_data = pd.read_csv('gun-violence-data_01-2013_03-2018.csv')\n",
    "# We will remove NaN because we will not know which congressional district the violence occurd\n",
    "cleaned_gun_data = gun_data[['state','date','congressional_district']].dropna()\n",
    "# Converting all the date to Years and dropping date\n",
    "cleaned_gun_data['Date'] = pd.to_datetime(cleaned_gun_data['date'], errors='coerce')\n",
    "cleaned_gun_data['Year'] = cleaned_gun_data['Date'].dt.year\n",
    "cleaned_gun_data = cleaned_gun_data.drop(['date','Date','congressional_district'], axis = 1)\n",
    "cleaned_gun_data.head()"
   ]
  },
  {
   "cell_type": "markdown",
   "metadata": {},
   "source": [
    "## Data Wrangling / Visualization\n",
    "We will use a bar plot to visualize the dominance of each party per congressional cycle. There will also be a trend line visualizing the total amount of violence in that state per year."
   ]
  },
  {
   "cell_type": "markdown",
   "metadata": {},
   "source": [
    "#### Making Functions to clean our data and make new data tables "
   ]
  },
  {
   "cell_type": "code",
   "execution_count": 22,
   "metadata": {},
   "outputs": [
    {
     "data": {
      "text/html": [
       "<div>\n",
       "<style scoped>\n",
       "    .dataframe tbody tr th:only-of-type {\n",
       "        vertical-align: middle;\n",
       "    }\n",
       "\n",
       "    .dataframe tbody tr th {\n",
       "        vertical-align: top;\n",
       "    }\n",
       "\n",
       "    .dataframe thead th {\n",
       "        text-align: right;\n",
       "    }\n",
       "</style>\n",
       "<table border=\"1\" class=\"dataframe\">\n",
       "  <thead>\n",
       "    <tr style=\"text-align: right;\">\n",
       "      <th></th>\n",
       "      <th>2014</th>\n",
       "      <th>2016</th>\n",
       "      <th>2018</th>\n",
       "    </tr>\n",
       "  </thead>\n",
       "  <tbody>\n",
       "    <tr>\n",
       "      <th>Alabama</th>\n",
       "      <td>1317</td>\n",
       "      <td>2256</td>\n",
       "      <td>1644</td>\n",
       "    </tr>\n",
       "    <tr>\n",
       "      <th>Alaska</th>\n",
       "      <td>132</td>\n",
       "      <td>793</td>\n",
       "      <td>232</td>\n",
       "    </tr>\n",
       "    <tr>\n",
       "      <th>Arizona</th>\n",
       "      <td>561</td>\n",
       "      <td>1002</td>\n",
       "      <td>691</td>\n",
       "    </tr>\n",
       "    <tr>\n",
       "      <th>Arkansas</th>\n",
       "      <td>572</td>\n",
       "      <td>1201</td>\n",
       "      <td>950</td>\n",
       "    </tr>\n",
       "    <tr>\n",
       "      <th>California</th>\n",
       "      <td>3750</td>\n",
       "      <td>6732</td>\n",
       "      <td>5310</td>\n",
       "    </tr>\n",
       "  </tbody>\n",
       "</table>\n",
       "</div>"
      ],
      "text/plain": [
       "            2014  2016  2018\n",
       "Alabama     1317  2256  1644\n",
       "Alaska       132   793   232\n",
       "Arizona      561  1002   691\n",
       "Arkansas     572  1201   950\n",
       "California  3750  6732  5310"
      ]
     },
     "execution_count": 22,
     "metadata": {},
     "output_type": "execute_result"
    }
   ],
   "source": [
    "# Function to find total amound of gun violence in a specific state per year\n",
    "def total_violence(state):\n",
    "    total = []\n",
    "    for i in range(2013,2019, 2):\n",
    "        year1 = cleaned_gun_data.loc[cleaned_gun_data['Year'] == i]\n",
    "        year2 = cleaned_gun_data.loc[cleaned_gun_data['Year'] == i+1]\n",
    "        count = len(year1.loc[year1['state'] == state]) + len(year2.loc[year2['state'] == state])\n",
    "        total.append(count)\n",
    "    return total\n",
    "df_total_violence.head()"
   ]
  },
  {
   "cell_type": "code",
   "execution_count": 23,
   "metadata": {},
   "outputs": [],
   "source": [
    "#Function to find percentage Republican per election cycle in each state.\n",
    "def percent_rep(s):\n",
    "    percentage_rep = []\n",
    "    for i in range(2014, 2019, 2):\n",
    "        target = cleaned_congressional_data[(cleaned_congressional_data['State'] == s) & (cleaned_congressional_data['raceYear'] == i)]\n",
    "        rep = len(target.loc[target['PluralityParty'] == 'R'])\n",
    "        dem = len(target.loc[target['PluralityParty'] == 'D'])\n",
    "        total = rep + dem\n",
    "        percentage_rep.append(rep/total)\n",
    "    return percentage_rep"
   ]
  },
  {
   "cell_type": "code",
   "execution_count": 24,
   "metadata": {},
   "outputs": [],
   "source": [
    "#Function to find percentage Democrat per each election cycle in each state.\n",
    "def percent_dem(s):\n",
    "    percentage_dem = []\n",
    "    for i in range(2014, 2019, 2):\n",
    "        target = cleaned_congressional_data[(cleaned_congressional_data['State'] == s) & (cleaned_congressional_data['raceYear'] == i)]\n",
    "        rep = len(target.loc[target['PluralityParty'] == 'R'])\n",
    "        dem = len(target.loc[target['PluralityParty'] == 'D'])\n",
    "        total = rep + dem\n",
    "        percentage_dem.append(dem/total)\n",
    "    return percentage_dem"
   ]
  },
  {
   "cell_type": "code",
   "execution_count": 25,
   "metadata": {},
   "outputs": [
    {
     "data": {
      "text/html": [
       "<div>\n",
       "<style scoped>\n",
       "    .dataframe tbody tr th:only-of-type {\n",
       "        vertical-align: middle;\n",
       "    }\n",
       "\n",
       "    .dataframe tbody tr th {\n",
       "        vertical-align: top;\n",
       "    }\n",
       "\n",
       "    .dataframe thead th {\n",
       "        text-align: right;\n",
       "    }\n",
       "</style>\n",
       "<table border=\"1\" class=\"dataframe\">\n",
       "  <thead>\n",
       "    <tr style=\"text-align: right;\">\n",
       "      <th></th>\n",
       "      <th>2014</th>\n",
       "      <th>2016</th>\n",
       "      <th>2018</th>\n",
       "    </tr>\n",
       "  </thead>\n",
       "  <tbody>\n",
       "    <tr>\n",
       "      <th>Alabama</th>\n",
       "      <td>1317</td>\n",
       "      <td>2256</td>\n",
       "      <td>1644</td>\n",
       "    </tr>\n",
       "    <tr>\n",
       "      <th>Alaska</th>\n",
       "      <td>132</td>\n",
       "      <td>793</td>\n",
       "      <td>232</td>\n",
       "    </tr>\n",
       "    <tr>\n",
       "      <th>Arizona</th>\n",
       "      <td>561</td>\n",
       "      <td>1002</td>\n",
       "      <td>691</td>\n",
       "    </tr>\n",
       "    <tr>\n",
       "      <th>Arkansas</th>\n",
       "      <td>572</td>\n",
       "      <td>1201</td>\n",
       "      <td>950</td>\n",
       "    </tr>\n",
       "    <tr>\n",
       "      <th>California</th>\n",
       "      <td>3750</td>\n",
       "      <td>6732</td>\n",
       "      <td>5310</td>\n",
       "    </tr>\n",
       "  </tbody>\n",
       "</table>\n",
       "</div>"
      ],
      "text/plain": [
       "            2014  2016  2018\n",
       "Alabama     1317  2256  1644\n",
       "Alaska       132   793   232\n",
       "Arizona      561  1002   691\n",
       "Arkansas     572  1201   950\n",
       "California  3750  6732  5310"
      ]
     },
     "execution_count": 25,
     "metadata": {},
     "output_type": "execute_result"
    }
   ],
   "source": [
    "#Making new data table plotting total violence in years of congressional elections\n",
    "list_of_state = cleaned_congressional_data['State'].unique().tolist()\n",
    "total_violence_list = []\n",
    "for state in list_of_state:\n",
    "    total_violence_list.append(total_violence(state))\n",
    "df_total_violence = pd.DataFrame(np.array(total_violence_list), index=list_of_state, columns=[2014, 2016, 2018])\n",
    "df_total_violence.head()"
   ]
  },
  {
   "cell_type": "code",
   "execution_count": 26,
   "metadata": {},
   "outputs": [
    {
     "data": {
      "text/html": [
       "<div>\n",
       "<style scoped>\n",
       "    .dataframe tbody tr th:only-of-type {\n",
       "        vertical-align: middle;\n",
       "    }\n",
       "\n",
       "    .dataframe tbody tr th {\n",
       "        vertical-align: top;\n",
       "    }\n",
       "\n",
       "    .dataframe thead th {\n",
       "        text-align: right;\n",
       "    }\n",
       "</style>\n",
       "<table border=\"1\" class=\"dataframe\">\n",
       "  <thead>\n",
       "    <tr style=\"text-align: right;\">\n",
       "      <th></th>\n",
       "      <th>2014</th>\n",
       "      <th>2016</th>\n",
       "      <th>2018</th>\n",
       "    </tr>\n",
       "  </thead>\n",
       "  <tbody>\n",
       "    <tr>\n",
       "      <th>Alabama</th>\n",
       "      <td>0.857143</td>\n",
       "      <td>0.857143</td>\n",
       "      <td>0.857143</td>\n",
       "    </tr>\n",
       "    <tr>\n",
       "      <th>Alaska</th>\n",
       "      <td>1.000000</td>\n",
       "      <td>1.000000</td>\n",
       "      <td>1.000000</td>\n",
       "    </tr>\n",
       "    <tr>\n",
       "      <th>Arizona</th>\n",
       "      <td>0.555556</td>\n",
       "      <td>0.555556</td>\n",
       "      <td>0.444444</td>\n",
       "    </tr>\n",
       "    <tr>\n",
       "      <th>Arkansas</th>\n",
       "      <td>1.000000</td>\n",
       "      <td>1.000000</td>\n",
       "      <td>1.000000</td>\n",
       "    </tr>\n",
       "    <tr>\n",
       "      <th>California</th>\n",
       "      <td>0.264151</td>\n",
       "      <td>0.269231</td>\n",
       "      <td>0.132075</td>\n",
       "    </tr>\n",
       "  </tbody>\n",
       "</table>\n",
       "</div>"
      ],
      "text/plain": [
       "                2014      2016      2018\n",
       "Alabama     0.857143  0.857143  0.857143\n",
       "Alaska      1.000000  1.000000  1.000000\n",
       "Arizona     0.555556  0.555556  0.444444\n",
       "Arkansas    1.000000  1.000000  1.000000\n",
       "California  0.264151  0.269231  0.132075"
      ]
     },
     "execution_count": 26,
     "metadata": {},
     "output_type": "execute_result"
    }
   ],
   "source": [
    "#Percent Republican in each state\n",
    "percent_rep_list = []\n",
    "for state in list_of_state:\n",
    "    percent_rep_list.append(percent_rep(state))\n",
    "df_percent_rep = pd.DataFrame(np.array(percent_rep_list), index=list_of_state, columns=[2014, 2016, 2018])\n",
    "df_percent_rep.head()"
   ]
  },
  {
   "cell_type": "code",
   "execution_count": 31,
   "metadata": {},
   "outputs": [
    {
     "data": {
      "text/html": [
       "<div>\n",
       "<style scoped>\n",
       "    .dataframe tbody tr th:only-of-type {\n",
       "        vertical-align: middle;\n",
       "    }\n",
       "\n",
       "    .dataframe tbody tr th {\n",
       "        vertical-align: top;\n",
       "    }\n",
       "\n",
       "    .dataframe thead th {\n",
       "        text-align: right;\n",
       "    }\n",
       "</style>\n",
       "<table border=\"1\" class=\"dataframe\">\n",
       "  <thead>\n",
       "    <tr style=\"text-align: right;\">\n",
       "      <th></th>\n",
       "      <th>2014</th>\n",
       "      <th>2016</th>\n",
       "      <th>2018</th>\n",
       "    </tr>\n",
       "  </thead>\n",
       "  <tbody>\n",
       "    <tr>\n",
       "      <th>Alabama</th>\n",
       "      <td>0.142857</td>\n",
       "      <td>0.142857</td>\n",
       "      <td>0.142857</td>\n",
       "    </tr>\n",
       "    <tr>\n",
       "      <th>Alaska</th>\n",
       "      <td>0.000000</td>\n",
       "      <td>0.000000</td>\n",
       "      <td>0.000000</td>\n",
       "    </tr>\n",
       "    <tr>\n",
       "      <th>Arizona</th>\n",
       "      <td>0.444444</td>\n",
       "      <td>0.444444</td>\n",
       "      <td>0.555556</td>\n",
       "    </tr>\n",
       "    <tr>\n",
       "      <th>Arkansas</th>\n",
       "      <td>0.000000</td>\n",
       "      <td>0.000000</td>\n",
       "      <td>0.000000</td>\n",
       "    </tr>\n",
       "    <tr>\n",
       "      <th>California</th>\n",
       "      <td>0.735849</td>\n",
       "      <td>0.730769</td>\n",
       "      <td>0.867925</td>\n",
       "    </tr>\n",
       "  </tbody>\n",
       "</table>\n",
       "</div>"
      ],
      "text/plain": [
       "                2014      2016      2018\n",
       "Alabama     0.142857  0.142857  0.142857\n",
       "Alaska      0.000000  0.000000  0.000000\n",
       "Arizona     0.444444  0.444444  0.555556\n",
       "Arkansas    0.000000  0.000000  0.000000\n",
       "California  0.735849  0.730769  0.867925"
      ]
     },
     "execution_count": 31,
     "metadata": {},
     "output_type": "execute_result"
    }
   ],
   "source": [
    "#Percent Democrat in each state\n",
    "percent_dem_list = []\n",
    "for state in list_of_state:\n",
    "    percent_dem_list.append(percent_dem(state))\n",
    "df_percent_dem = pd.DataFrame(np.array(percent_dem_list),index = list_of_state, columns = [2014, 2016, 2018])\n",
    "df_percent_dem.head()"
   ]
  },
  {
   "cell_type": "markdown",
   "metadata": {},
   "source": [
    "### Democrats and Republicans in 2014 "
   ]
  },
  {
   "cell_type": "code",
   "execution_count": 42,
   "metadata": {},
   "outputs": [
    {
     "data": {
      "text/plain": [
       "<matplotlib.collections.PathCollection at 0x2d1b751d908>"
      ]
     },
     "execution_count": 42,
     "metadata": {},
     "output_type": "execute_result"
    },
    {
     "data": {
      "image/png": "[encoded data removed]",
      "text/plain": [
       "<Figure size 432x288 with 1 Axes>"
      ]
     },
     "metadata": {
      "needs_background": "light"
     },
     "output_type": "display_data"
    }
   ],
   "source": [
    "x = df_total_violence[2014].tolist()\n",
    "y = df_percent_rep[2014].tolist()\n",
    "plt.scatter(x, y, label=\"2014\", color=\"red\")"
   ]
  },
  {
   "cell_type": "code",
   "execution_count": 43,
   "metadata": {},
   "outputs": [
    {
     "data": {
      "text/plain": [
       "<matplotlib.collections.PathCollection at 0x2d1b757af98>"
      ]
     },
     "execution_count": 43,
     "metadata": {},
     "output_type": "execute_result"
    },
    {
     "data": {
      "image/png": "[encoded data removed]",
      "text/plain": [
       "<Figure size 432x288 with 1 Axes>"
      ]
     },
     "metadata": {
      "needs_background": "light"
     },
     "output_type": "display_data"
    }
   ],
   "source": [
    "x = df_total_violence[2014].tolist()\n",
    "y = df_percent_dem[2014].tolist()\n",
    "plt.scatter(x, y, label=\"2014\", color=\"blue\")"
   ]
  },
  {
   "cell_type": "markdown",
   "metadata": {},
   "source": [
    "### Democrats and Republicans in 2016"
   ]
  },
  {
   "cell_type": "code",
   "execution_count": 44,
   "metadata": {},
   "outputs": [
    {
     "data": {
      "text/plain": [
       "<matplotlib.collections.PathCollection at 0x2d1b75da668>"
      ]
     },
     "execution_count": 44,
     "metadata": {},
     "output_type": "execute_result"
    },
    {
     "data": {
      "image/png": "[encoded data removed]",
      "text/plain": [
       "<Figure size 432x288 with 1 Axes>"
      ]
     },
     "metadata": {
      "needs_background": "light"
     },
     "output_type": "display_data"
    }
   ],
   "source": [
    "x = df_total_violence[2016].tolist()\n",
    "y = df_percent_rep[2016].tolist()\n",
    "plt.scatter(x, y, label=\"2016\", color=\"red\")"
   ]
  },
  {
   "cell_type": "code",
   "execution_count": 45,
   "metadata": {},
   "outputs": [
    {
     "data": {
      "text/plain": [
       "<matplotlib.collections.PathCollection at 0x2d1b7641208>"
      ]
     },
     "execution_count": 45,
     "metadata": {},
     "output_type": "execute_result"
    },
    {
     "data": {
      "image/png": "[encoded data removed]",
      "text/plain": [
       "<Figure size 432x288 with 1 Axes>"
      ]
     },
     "metadata": {
      "needs_background": "light"
     },
     "output_type": "display_data"
    }
   ],
   "source": [
    "x = df_total_violence[2016].tolist()\n",
    "y = df_percent_dem[2016].tolist()\n",
    "plt.scatter(x, y, label=\"2016\", color=\"blue\")"
   ]
  },
  {
   "cell_type": "markdown",
   "metadata": {},
   "source": [
    "### Democrats and Republicans in 2018"
   ]
  },
  {
   "cell_type": "code",
   "execution_count": 58,
   "metadata": {},
   "outputs": [
    {
     "data": {
      "text/plain": [
       "<matplotlib.collections.PathCollection at 0x2d1b7a585c0>"
      ]
     },
     "execution_count": 58,
     "metadata": {},
     "output_type": "execute_result"
    },
    {
     "data": {
      "image/png": "[encoded data removed]",
      "text/plain": [
       "<Figure size 432x288 with 1 Axes>"
      ]
     },
     "metadata": {
      "needs_background": "light"
     },
     "output_type": "display_data"
    }
   ],
   "source": [
    "x = df_total_violence[2018].tolist()\n",
    "y = df_percent_rep[2018].tolist()\n",
    "plt.scatter(x, y, label=\"2018\", color=\"red\")"
   ]
  },
  {
   "cell_type": "code",
   "execution_count": 59,
   "metadata": {},
   "outputs": [
    {
     "data": {
      "text/plain": [
       "<matplotlib.collections.PathCollection at 0x2d1b7ab32e8>"
      ]
     },
     "execution_count": 59,
     "metadata": {},
     "output_type": "execute_result"
    },
    {
     "data": {
      "image/png": "[encoded data removed]",
      "text/plain": [
       "<Figure size 432x288 with 1 Axes>"
      ]
     },
     "metadata": {
      "needs_background": "light"
     },
     "output_type": "display_data"
    }
   ],
   "source": [
    "x = df_total_violence[2018].tolist()\n",
    "y = df_percent_dem[2018].tolist()\n",
    "plt.scatter(x, y, label=\"2018\", color=\"blue\")"
   ]
  },
  {
   "cell_type": "markdown",
   "metadata": {},
   "source": [
    "## Key Swing States\n",
    "This will allow us to see if gun violence does have an impact on these key states. This is so because they are not considered \"solid\" Democrat or Republican, which would give us a gauge of how important gun violence is to them."
   ]
  },
  {
   "cell_type": "code",
   "execution_count": 61,
   "metadata": {},
   "outputs": [],
   "source": [
    "# Gathering all the swing states together.\n",
    "swing_states = ['Colorado', 'Florida', 'Iowa', 'Michigan', 'Minnesota', 'Ohio', 'Nevada', 'New Hampshire', 'North Carolina', 'Pennsylvania', 'Virginia', 'Wisconsin']\n",
    "df_total_violence_swing = df_total_violence.loc[swing_states]\n",
    "df_percent_rep_swing = df_percent_rep.loc[swing_states]\n",
    "df_percent_dem_swing = df_percent_dem.loc[swing_states]"
   ]
  },
  {
   "cell_type": "code",
   "execution_count": 62,
   "metadata": {},
   "outputs": [
    {
     "data": {
      "text/plain": [
       "<matplotlib.collections.PathCollection at 0x2d1b7b0e940>"
      ]
     },
     "execution_count": 62,
     "metadata": {},
     "output_type": "execute_result"
    },
    {
     "data": {
      "image/png": "[encoded data removed]",
      "text/plain": [
       "<Figure size 432x288 with 1 Axes>"
      ]
     },
     "metadata": {
      "needs_background": "light"
     },
     "output_type": "display_data"
    }
   ],
   "source": [
    "x = df_total_violence_swing[2014].tolist()\n",
    "y =  df_percent_rep_swing[2014].tolist()\n",
    "plt.scatter(x, y, label=\"2014\", color=\"red\")\n",
    "x = df_total_violence_swing[2014].tolist()\n",
    "y = df_percent_dem_swing[2014].tolist()\n",
    "plt.scatter(x, y, label=\"2014\", color=\"blue\")"
   ]
  },
  {
   "cell_type": "code",
   "execution_count": 63,
   "metadata": {},
   "outputs": [
    {
     "data": {
      "text/plain": [
       "<matplotlib.collections.PathCollection at 0x2d1b7b6aeb8>"
      ]
     },
     "execution_count": 63,
     "metadata": {},
     "output_type": "execute_result"
    },
    {
     "data": {
      "image/png": "[encoded data removed]",
      "text/plain": [
       "<Figure size 432x288 with 1 Axes>"
      ]
     },
     "metadata": {
      "needs_background": "light"
     },
     "output_type": "display_data"
    }
   ],
   "source": [
    "x = df_total_violence_swing[2016].tolist()\n",
    "y =  df_percent_rep_swing[2016].tolist()\n",
    "plt.scatter(x, y, label=\"2016\", color=\"red\")\n",
    "x = df_total_violence_swing[2016].tolist()\n",
    "y = df_percent_dem_swing[2016].tolist()\n",
    "plt.scatter(x, y, label=\"2016\", color=\"blue\")"
   ]
  },
  {
   "cell_type": "code",
   "execution_count": 64,
   "metadata": {},
   "outputs": [
    {
     "data": {
      "text/plain": [
       "<matplotlib.collections.PathCollection at 0x2d1b7bd3438>"
      ]
     },
     "execution_count": 64,
     "metadata": {},
     "output_type": "execute_result"
    },
    {
     "data": {
      "image/png": "[encoded data removed]",
      "text/plain": [
       "<Figure size 432x288 with 1 Axes>"
      ]
     },
     "metadata": {
      "needs_background": "light"
     },
     "output_type": "display_data"
    }
   ],
   "source": [
    "x = df_total_violence_swing[2018].tolist()\n",
    "y =  df_percent_rep_swing[2018].tolist()\n",
    "plt.scatter(x, y, label=\"2018\", color=\"red\")\n",
    "x = df_total_violence_swing[2018].tolist()\n",
    "y = df_percent_dem_swing[2018].tolist()\n",
    "plt.scatter(x, y, label=\"2018\", color=\"blue\")"
   ]
  },
  {
   "cell_type": "markdown",
   "metadata": {},
   "source": [
    "# Running Statistical Analysis"
   ]
  },
  {
   "cell_type": "code",
   "execution_count": null,
   "metadata": {},
   "outputs": [],
   "source": []
  }
 ],
 "metadata": {
  "kernelspec": {
   "display_name": "Python 3",
   "language": "python",
   "name": "python3"
  },
  "language_info": {
   "codemirror_mode": {
    "name": "ipython",
    "version": 3
   },
   "file_extension": ".py",
   "mimetype": "text/x-python",
   "name": "python",
   "nbconvert_exporter": "python",
   "pygments_lexer": "ipython3",
   "version": "3.7.3"
  }
 },
 "nbformat": 4,
 "nbformat_minor": 2
}
