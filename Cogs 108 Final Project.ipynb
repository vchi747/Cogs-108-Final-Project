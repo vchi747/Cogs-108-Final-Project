{
 "cells": [
  {
   "cell_type": "markdown",
   "metadata": {},
   "source": [
    "# Cogs 108 Final Project - How has Gun Violence Affect the Polls"
   ]
  },
  {
   "cell_type": "markdown",
   "metadata": {},
   "source": [
    "### Group Members and Contributions\n",
    "- Victor Chi(A14489640)\n",
    "- Evan Kay\n",
    "- Weilin Liu\n",
    "- Christopher Rocha"
   ]
  },
  {
   "cell_type": "markdown",
   "metadata": {},
   "source": [
    "## Indroduction and Background"
   ]
  },
  {
   "cell_type": "markdown",
   "metadata": {},
   "source": [
    "### Background"
   ]
  },
  {
   "cell_type": "markdown",
   "metadata": {},
   "source": [
    "Gun violence has become a very hot topic lately due to the mass shootings at schools, concerts, and even in our own neighborhoods. It has emboldened both sides of the political spectrum; driving many to the polls to vote their beliefs and demand changes to the system. Even though this issue is a very controversial topic, we can not deny how it has greatly polarized this nation and caused a great schism between conservatives and liberals, Democrats and Republicans. On that note, we wanted to tackle this trend and see how congressional districts have changed due to gun violence. There are many articles and research on the internet, due to it being a hot topic, but it is very divided and has not reached a final verdict. That is why we want to use data to guide us in a path that will triangulate us to the right conclusions and possibly see how a district will swing based on the increase or decrease of gun violence. "
   ]
  },
  {
   "cell_type": "markdown",
   "metadata": {},
   "source": [
    "### Research Question\n",
    "How does gun violence in each congressional district affect how voters vote, either Democrat or Republican, when election day comes along?"
   ]
  },
  {
   "cell_type": "markdown",
   "metadata": {},
   "source": [
    "### Hypothesis\n",
    "We believe that congressional districts with a higher rate of gun violence will tend to vote more Democrat, while congressional districts with less gun violence will tend to vote more Republican."
   ]
  },
  {
   "cell_type": "markdown",
   "metadata": {},
   "source": [
    "### Datasets\n",
    "Contains information about gun violence in each congressional district since 2012\n",
    "- Dataset Name: Gun Violence Data\n",
    "- Link to Dataset: https://www.kaggle.com/jameslko/gun-violence-data/home\n",
    "- Number of observations: over 260k\n",
    "\n",
    "Contains results of congressional voting data for each district\n",
    "- Dataset Name: Congressional Voting Data\n",
    "- Link to Dataset: http://library.cqpress.com/elections/download-data.php?filetype=&office=3&areatype=1&year=20122020&format=3&license=on&emailto=&emailfrom=\n",
    "- Number of observations:  1600\n"
   ]
  },
  {
   "cell_type": "markdown",
   "metadata": {},
   "source": [
    "### Dataset Cleaning"
   ]
  },
  {
   "cell_type": "code",
   "execution_count": 5,
   "metadata": {},
   "outputs": [],
   "source": [
    "#Packages needed to clean the dataset\n",
    "import numpy as np\n",
    "import pandas as pd\n",
    "from datascience import *\n",
    "from IPython.display import FileLink, FileLinks"
   ]
  },
  {
   "cell_type": "markdown",
   "metadata": {},
   "source": [
    "### Cleaning Congressional Voting Data\n",
    "The congressional voting data was a very difficult dataset to obtain due to the website's limitations. It only allowed the user to download a certain amount of states at a time, so as a result the states had to be downloaded in multiple files. To clean our data efficiently we will: \n",
    "- Read in all our datasets one by one as csv files.\n",
    "- Concatenate them all together so cleaning the dataset as one will be much faster.\n",
    "- Remove all columns except for the state,congressional district, raceYear, and party winner.\n",
    "- Remove NaN and other titles that were considered as rows, when the data sets were concatenated together.\n"
   ]
  },
  {
   "cell_type": "code",
   "execution_count": 7,
   "metadata": {},
   "outputs": [],
   "source": [
    "# Reading in all voting records\n",
    "states_1 = pd.read_csv(\"Alabama.csv\",skiprows= 2)\n",
    "states_2 = pd.read_csv('Alaska-Hawaii.csv', skiprows =2)\n",
    "states_3 = pd.read_csv('Idaho-Massachusets.csv', skiprows = 2)\n",
    "states_4 = pd.read_csv('Michigan to New Mexico.csv', skiprows = 2)\n",
    "states_5 = pd.read_csv('New York-South Dakota.csv', skiprows = 2)\n",
    "states_6 = pd.read_csv('Tennesee-Wyoming.csv', skiprows = 2)"
   ]
  },
  {
   "cell_type": "code",
   "execution_count": 3,
   "metadata": {},
   "outputs": [],
   "source": [
    "# Concatenating all the states together\n",
    "final_states = pd.concat([states_1, states_2,states_3,states_4,states_5,states_6])"
   ]
  },
  {
   "cell_type": "code",
   "execution_count": 24,
   "metadata": {},
   "outputs": [
    {
     "data": {
      "text/html": [
       "<div>\n",
       "<style scoped>\n",
       "    .dataframe tbody tr th:only-of-type {\n",
       "        vertical-align: middle;\n",
       "    }\n",
       "\n",
       "    .dataframe tbody tr th {\n",
       "        vertical-align: top;\n",
       "    }\n",
       "\n",
       "    .dataframe thead th {\n",
       "        text-align: right;\n",
       "    }\n",
       "</style>\n",
       "<table border=\"1\" class=\"dataframe\">\n",
       "  <thead>\n",
       "    <tr style=\"text-align: right;\">\n",
       "      <th></th>\n",
       "      <th>State</th>\n",
       "      <th>Area</th>\n",
       "      <th>PluralityParty</th>\n",
       "      <th>raceYear</th>\n",
       "    </tr>\n",
       "  </thead>\n",
       "  <tbody>\n",
       "    <tr>\n",
       "      <th>0</th>\n",
       "      <td>Alabama</td>\n",
       "      <td>District 1</td>\n",
       "      <td>R</td>\n",
       "      <td>2018</td>\n",
       "    </tr>\n",
       "    <tr>\n",
       "      <th>1</th>\n",
       "      <td>Alabama</td>\n",
       "      <td>District 1</td>\n",
       "      <td>R</td>\n",
       "      <td>2016</td>\n",
       "    </tr>\n",
       "    <tr>\n",
       "      <th>2</th>\n",
       "      <td>Alabama</td>\n",
       "      <td>District 1</td>\n",
       "      <td>R</td>\n",
       "      <td>2014</td>\n",
       "    </tr>\n",
       "    <tr>\n",
       "      <th>3</th>\n",
       "      <td>Alabama</td>\n",
       "      <td>District 1</td>\n",
       "      <td>R</td>\n",
       "      <td>2012</td>\n",
       "    </tr>\n",
       "    <tr>\n",
       "      <th>4</th>\n",
       "      <td>Alabama</td>\n",
       "      <td>District 2</td>\n",
       "      <td>R</td>\n",
       "      <td>2018</td>\n",
       "    </tr>\n",
       "  </tbody>\n",
       "</table>\n",
       "</div>"
      ],
      "text/plain": [
       "     State        Area PluralityParty raceYear\n",
       "0  Alabama  District 1              R     2018\n",
       "1  Alabama  District 1              R     2016\n",
       "2  Alabama  District 1              R     2014\n",
       "3  Alabama  District 1              R     2012\n",
       "4  Alabama  District 2              R     2018"
      ]
     },
     "execution_count": 24,
     "metadata": {},
     "output_type": "execute_result"
    }
   ],
   "source": [
    "# Cleaning dataset\n",
    "congressional_data = final_states[['State','Area','PluralityParty','raceYear']].dropna()\n",
    "cleaned_congressional_data = congressional_data[congressional_data['State'] != 'State']\n",
    "cleaned_congressional_data.head()"
   ]
  },
  {
   "cell_type": "markdown",
   "metadata": {},
   "source": [
    "### Cleaning Gun Violence Data\n",
    "The gun violence data set was already pretty clean since we obtained it from kaggle. However, it included a lot of information that we did not need to do our exploratory analysis. To clean our data we will:\n",
    "- Read in our dataset\n",
    "- Remove all columns except for the state, congressional district, and date\n",
    "- Drop rows with NaN because they will not provide us with information we want"
   ]
  },
  {
   "cell_type": "code",
   "execution_count": 30,
   "metadata": {},
   "outputs": [
    {
     "data": {
      "text/html": [
       "<div>\n",
       "<style scoped>\n",
       "    .dataframe tbody tr th:only-of-type {\n",
       "        vertical-align: middle;\n",
       "    }\n",
       "\n",
       "    .dataframe tbody tr th {\n",
       "        vertical-align: top;\n",
       "    }\n",
       "\n",
       "    .dataframe thead th {\n",
       "        text-align: right;\n",
       "    }\n",
       "</style>\n",
       "<table border=\"1\" class=\"dataframe\">\n",
       "  <thead>\n",
       "    <tr style=\"text-align: right;\">\n",
       "      <th></th>\n",
       "      <th>state</th>\n",
       "      <th>date</th>\n",
       "      <th>congressional_district</th>\n",
       "    </tr>\n",
       "  </thead>\n",
       "  <tbody>\n",
       "    <tr>\n",
       "      <th>0</th>\n",
       "      <td>Pennsylvania</td>\n",
       "      <td>2013-01-01</td>\n",
       "      <td>14.0</td>\n",
       "    </tr>\n",
       "    <tr>\n",
       "      <th>1</th>\n",
       "      <td>California</td>\n",
       "      <td>2013-01-01</td>\n",
       "      <td>43.0</td>\n",
       "    </tr>\n",
       "    <tr>\n",
       "      <th>2</th>\n",
       "      <td>Ohio</td>\n",
       "      <td>2013-01-01</td>\n",
       "      <td>9.0</td>\n",
       "    </tr>\n",
       "    <tr>\n",
       "      <th>3</th>\n",
       "      <td>Colorado</td>\n",
       "      <td>2013-01-05</td>\n",
       "      <td>6.0</td>\n",
       "    </tr>\n",
       "    <tr>\n",
       "      <th>4</th>\n",
       "      <td>North Carolina</td>\n",
       "      <td>2013-01-07</td>\n",
       "      <td>6.0</td>\n",
       "    </tr>\n",
       "  </tbody>\n",
       "</table>\n",
       "</div>"
      ],
      "text/plain": [
       "            state        date  congressional_district\n",
       "0    Pennsylvania  2013-01-01                    14.0\n",
       "1      California  2013-01-01                    43.0\n",
       "2            Ohio  2013-01-01                     9.0\n",
       "3        Colorado  2013-01-05                     6.0\n",
       "4  North Carolina  2013-01-07                     6.0"
      ]
     },
     "execution_count": 30,
     "metadata": {},
     "output_type": "execute_result"
    }
   ],
   "source": [
    "# Reading in Gun violence data\n",
    "gun_data = pd.read_csv('gun-violence-data_01-2013_03-2018.csv')\n",
    "# We will remove NaN because we will not know which congressional district the violence occurd\n",
    "cleaned_gun_data = gun_data[['state','date','congressional_district']].dropna()\n",
    "cleaned_gun_data.head()"
   ]
  },
  {
   "cell_type": "code",
   "execution_count": null,
   "metadata": {},
   "outputs": [],
   "source": []
  }
 ],
 "metadata": {
  "kernelspec": {
   "display_name": "Python 3",
   "language": "python",
   "name": "python3"
  },
  "language_info": {
   "codemirror_mode": {
    "name": "ipython",
    "version": 3
   },
   "file_extension": ".py",
   "mimetype": "text/x-python",
   "name": "python",
   "nbconvert_exporter": "python",
   "pygments_lexer": "ipython3",
   "version": "3.6.7"
  }
 },
 "nbformat": 4,
 "nbformat_minor": 2
}
