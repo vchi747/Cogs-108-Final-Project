{
 "cells": [
  {
   "cell_type": "markdown",
   "metadata": {},
   "source": [
    "# Cogs 108 Final Project - How has Gun Violence Affect the Polls"
   ]
  },
  {
   "cell_type": "markdown",
   "metadata": {},
   "source": [
    "## Overview\n",
    "\n",
    "Gun violence has become a very hot topic lately due to the mass shootings at schools, concerts, and even in our own neighborhoods. It has emboldened both sides of the political spectrum; driving many to the polls to vote their beliefs and demand changes to the system. Even though this issue is a very controversial topic, we can not deny how it has greatly polarized this nation and caused a great schism between conservatives and liberals, Democrats and Republicans. On that note, we wanted to tackle this trend and see how congressional districts have changed due to gun violence; ultimately visualizing who is the dominant party of the state over time."
   ]
  },
  {
   "cell_type": "markdown",
   "metadata": {},
   "source": [
    "### Group Members and Contributions\n",
    "- Victor Chi(A14489640)\n",
    "- Evan Kay (A12631982)\n",
    "- Weilin Liu(A14713406)\n",
    "- Christopher Rocha(A92080262)"
   ]
  },
  {
   "cell_type": "markdown",
   "metadata": {},
   "source": [
    "## Part 1: Indroduction and Background"
   ]
  },
  {
   "cell_type": "markdown",
   "metadata": {},
   "source": [
    "### Background"
   ]
  },
  {
   "cell_type": "markdown",
   "metadata": {},
   "source": [
    "Gun violence is a booming topic that has caught our group's attention due to its significance in our daily lives. Just this year alone, there have been 147 mass shootings in the US, with 17 of those in California. This is especially important as the 2020 elections are right around the corner and politicians are using gun violence as leverage for their campaigns. With gun violence being a hot topic throughout the internet, there are dozens of articles that believe they have cracked the code for determining the connection between gun violence and voting habits. The issue with many of these articles are that they cannot all agree on a single verdict, and the correlation between the two remain a mystery.\n",
    "\n",
    "[The Washington Post](https://www.washingtonpost.com/news/wonk/wp/2018/05/31/the-surprising-way-gun-violence-is-dividing-america/?noredirect=on&utm_term=.583b6e1bf7f8) looked into debunking the \"public paradox\" of gun control and political parties. It is generally assumed that Republican areas have more gun violence due to their views on bearing arms, but it is important to break down the statistics. Utilizing a similar data set, The Washington Post claims that there are 5.7 gun related deaths per 100,000 people per year in Republican counties, compared to 4.7 per 100,000 people in Democratic. This stat is a major misconception as it needs to be broken down into homocide related deaths and suicide related deaths. Republican counties' suicides outnumber homocide related deaths, while Democratic counties are the opposite. Further, Democratic counties have much higher populations (since they are large cities), which is naturally lower their death rates.\n",
    "\n",
    "In general, gun violence is directly related to low-income and inequal areas, much of what associated with large cities. When these mass shootings occur in large cities, millions of people fear that it may affect them and vow to control guns. These lead to huge Democratic pushes towards gun control and fierce retaliation from Republicans fighting to their right to bear arms.\n",
    "\n",
    "The overall increase in efforts by both the Democratic and Republican parties seem to have disrupted the previous norm, and we hope to uncover the true relationship between gun violence and congressional district voting. We will use data to guide us in a path that will triangulate the right conclusions and possibly see how a district will swing based on the increase or decrease of gun violence. \n",
    "\n"
   ]
  },
  {
   "cell_type": "markdown",
   "metadata": {},
   "source": [
    "### Research Question\n",
    "\n",
    "Gun violence is a controversial topic that has impacted millions in our communities, so we will strictly focus on taking a data-based approach and utilizing big data to draw conclusions.\n",
    "\n",
    "With that being said, we hope to predict and find indicators that determine how a state will vote, either Democratic or Republican, based on the amount number of gun violence incidents that has occured in that state during that year."
   ]
  },
  {
   "cell_type": "markdown",
   "metadata": {},
   "source": [
    "### Hypothesis\n",
    "\n",
    "We believe that a decrease in gun violence will lead individual states to vote more Democratic.\n",
    "\n",
    "Null Hypothesis: A decrease in gun violence will not effect in a state's voting.\n",
    "\n",
    "Even though there is an increase in political activity due to gun violence, we believe that Republicans will have a stronger impact in swaying the state's vote due to two previous trends. First, there has been a significant increase in Republican voting activity when it comes to something that they strongly believe in, as can be seen in election race of 2016. Second, there has been a significant decrease in millenials voting. Note that milenials make up the majority of the population in large cities. These larger cities have a higher population density in comarison to the more sparsely populated Republican areas. As such, these milenial dominated cities would naturally have more gun violence but less of an impact on voter polls due to lack of milenial voting. There may be more factors that would sway the vote to be more Republican, but we believe that these two are dominating factors that drive our hypothesis."
   ]
  },
  {
   "cell_type": "markdown",
   "metadata": {},
   "source": [
    "### Datasets\n",
    "Contains information about gun violence in each congressional district since 2012\n",
    "- Dataset Name: Gun Violence Data\n",
    "- Link to Dataset: https://www.kaggle.com/jameslko/gun-violence-data/home\n",
    "- Number of observations: over 260k\n",
    "\n",
    "Contains results of congressional voting data for each district\n",
    "- Dataset Name: Congressional Voting Data\n",
    "- Link to Dataset: http://library.cqpress.com/elections/download-data.php?filetype=&office=3&areatype=1&year=20122020&format=3&license=on&emailto=&emailfrom=\n",
    "- Number of observations:  1600\n"
   ]
  },
  {
   "cell_type": "markdown",
   "metadata": {},
   "source": [
    "## Dataset Cleaning"
   ]
  },
  {
   "cell_type": "code",
   "execution_count": 268,
   "metadata": {},
   "outputs": [],
   "source": [
    "#Packages needed to clean the dataset\n",
    "import numpy as np\n",
    "import pandas as pd\n",
    "import matplotlib.pyplot as plt\n",
    "from itertools import cycle\n",
    "#from datascience import *"
   ]
  },
  {
   "cell_type": "markdown",
   "metadata": {},
   "source": [
    "### Cleaning Congressional Voting Data\n",
    "The congressional voting data was a very difficult dataset to obtain due to the website's limitations. It only allowed the user to download a certain amount of states at a time, so as a result the states had to be downloaded in multiple files. To clean our data efficiently we will: \n",
    "- Read in all our datasets one by one as csv files.\n",
    "- Concatenate them all together so cleaning the dataset as one will be much faster.\n",
    "- Remove all columns except for the state, raceYear, and party winner.\n",
    "- Remove NaN and other titles that were considered as rows, when the data sets were concatenated together.\n"
   ]
  },
  {
   "cell_type": "code",
   "execution_count": 269,
   "metadata": {},
   "outputs": [
    {
     "data": {
      "text/html": [
       "<div>\n",
       "<style scoped>\n",
       "    .dataframe tbody tr th:only-of-type {\n",
       "        vertical-align: middle;\n",
       "    }\n",
       "\n",
       "    .dataframe tbody tr th {\n",
       "        vertical-align: top;\n",
       "    }\n",
       "\n",
       "    .dataframe thead th {\n",
       "        text-align: right;\n",
       "    }\n",
       "</style>\n",
       "<table border=\"1\" class=\"dataframe\">\n",
       "  <thead>\n",
       "    <tr style=\"text-align: right;\">\n",
       "      <th></th>\n",
       "      <th>Office</th>\n",
       "      <th>State</th>\n",
       "      <th>CensusPop</th>\n",
       "      <th>raceYear</th>\n",
       "      <th>Area</th>\n",
       "      <th>AreaNumber</th>\n",
       "      <th>RedistrictedDate</th>\n",
       "      <th>RepVotes</th>\n",
       "      <th>RepCandidate</th>\n",
       "      <th>RepStatus</th>\n",
       "      <th>...</th>\n",
       "      <th>ThirdVotes</th>\n",
       "      <th>ThirdCandidate</th>\n",
       "      <th>ThirdStatus</th>\n",
       "      <th>OtherVotes</th>\n",
       "      <th>PluralityVotes</th>\n",
       "      <th>PluralityParty</th>\n",
       "      <th>ThirdVotesTotalPercent</th>\n",
       "      <th>RepVotesMajorPercent</th>\n",
       "      <th>DemVotesMajorPercent</th>\n",
       "      <th>RaceNotes</th>\n",
       "    </tr>\n",
       "  </thead>\n",
       "  <tbody>\n",
       "    <tr>\n",
       "      <th>0</th>\n",
       "      <td>House</td>\n",
       "      <td>Alabama</td>\n",
       "      <td>NaN</td>\n",
       "      <td>2018.0</td>\n",
       "      <td>District 1</td>\n",
       "      <td>1.0</td>\n",
       "      <td>20120101.0</td>\n",
       "      <td>153,228</td>\n",
       "      <td>Byrne, Bradley</td>\n",
       "      <td>Incumbent</td>\n",
       "      <td>...</td>\n",
       "      <td>163</td>\n",
       "      <td>Write-In</td>\n",
       "      <td>Challenger</td>\n",
       "      <td>NaN</td>\n",
       "      <td>64,002</td>\n",
       "      <td>R</td>\n",
       "      <td>0.07</td>\n",
       "      <td>63.20</td>\n",
       "      <td>36.80</td>\n",
       "      <td>NaN</td>\n",
       "    </tr>\n",
       "    <tr>\n",
       "      <th>1</th>\n",
       "      <td>House</td>\n",
       "      <td>Alabama</td>\n",
       "      <td>NaN</td>\n",
       "      <td>2016.0</td>\n",
       "      <td>District 1</td>\n",
       "      <td>1.0</td>\n",
       "      <td>20120101.0</td>\n",
       "      <td>208,083</td>\n",
       "      <td>Byrne, Bradley</td>\n",
       "      <td>Incumbent</td>\n",
       "      <td>...</td>\n",
       "      <td>7,810</td>\n",
       "      <td>Write-In</td>\n",
       "      <td>Challenger</td>\n",
       "      <td>NaN</td>\n",
       "      <td>200,273</td>\n",
       "      <td>R</td>\n",
       "      <td>3.62</td>\n",
       "      <td>100.00</td>\n",
       "      <td>0.00</td>\n",
       "      <td>NaN</td>\n",
       "    </tr>\n",
       "    <tr>\n",
       "      <th>2</th>\n",
       "      <td>House</td>\n",
       "      <td>Alabama</td>\n",
       "      <td>NaN</td>\n",
       "      <td>2014.0</td>\n",
       "      <td>District 1</td>\n",
       "      <td>1.0</td>\n",
       "      <td>20120101.0</td>\n",
       "      <td>103,758</td>\n",
       "      <td>Byrne, Bradley</td>\n",
       "      <td>Incumbent</td>\n",
       "      <td>...</td>\n",
       "      <td>198</td>\n",
       "      <td>Write-In</td>\n",
       "      <td>Challenger</td>\n",
       "      <td>NaN</td>\n",
       "      <td>55,480</td>\n",
       "      <td>R</td>\n",
       "      <td>0.13</td>\n",
       "      <td>68.25</td>\n",
       "      <td>31.75</td>\n",
       "      <td>NaN</td>\n",
       "    </tr>\n",
       "    <tr>\n",
       "      <th>3</th>\n",
       "      <td>House</td>\n",
       "      <td>Alabama</td>\n",
       "      <td>NaN</td>\n",
       "      <td>2012.0</td>\n",
       "      <td>District 1</td>\n",
       "      <td>1.0</td>\n",
       "      <td>20120101.0</td>\n",
       "      <td>196,374</td>\n",
       "      <td>Bonner, Josiah Robbins Jr.</td>\n",
       "      <td>Incumbent</td>\n",
       "      <td>...</td>\n",
       "      <td>4,302</td>\n",
       "      <td>Scattered Write-In</td>\n",
       "      <td>Challenger</td>\n",
       "      <td>NaN</td>\n",
       "      <td>192,072</td>\n",
       "      <td>R</td>\n",
       "      <td>2.14</td>\n",
       "      <td>100.00</td>\n",
       "      <td>0.00</td>\n",
       "      <td>NaN</td>\n",
       "    </tr>\n",
       "    <tr>\n",
       "      <th>4</th>\n",
       "      <td>House</td>\n",
       "      <td>Alabama</td>\n",
       "      <td>NaN</td>\n",
       "      <td>2018.0</td>\n",
       "      <td>District 2</td>\n",
       "      <td>2.0</td>\n",
       "      <td>20120101.0</td>\n",
       "      <td>138,879</td>\n",
       "      <td>Roby, Martha</td>\n",
       "      <td>Incumbent</td>\n",
       "      <td>...</td>\n",
       "      <td>420</td>\n",
       "      <td>Write-In</td>\n",
       "      <td>Challenger</td>\n",
       "      <td>NaN</td>\n",
       "      <td>51,948</td>\n",
       "      <td>R</td>\n",
       "      <td>0.19</td>\n",
       "      <td>61.50</td>\n",
       "      <td>38.50</td>\n",
       "      <td>NaN</td>\n",
       "    </tr>\n",
       "  </tbody>\n",
       "</table>\n",
       "<p>5 rows × 24 columns</p>\n",
       "</div>"
      ],
      "text/plain": [
       "  Office    State  CensusPop  raceYear        Area  AreaNumber  \\\n",
       "0  House  Alabama        NaN    2018.0  District 1         1.0   \n",
       "1  House  Alabama        NaN    2016.0  District 1         1.0   \n",
       "2  House  Alabama        NaN    2014.0  District 1         1.0   \n",
       "3  House  Alabama        NaN    2012.0  District 1         1.0   \n",
       "4  House  Alabama        NaN    2018.0  District 2         2.0   \n",
       "\n",
       "   RedistrictedDate RepVotes                RepCandidate  RepStatus  ...  \\\n",
       "0        20120101.0  153,228              Byrne, Bradley  Incumbent  ...   \n",
       "1        20120101.0  208,083              Byrne, Bradley  Incumbent  ...   \n",
       "2        20120101.0  103,758              Byrne, Bradley  Incumbent  ...   \n",
       "3        20120101.0  196,374  Bonner, Josiah Robbins Jr.  Incumbent  ...   \n",
       "4        20120101.0  138,879                Roby, Martha  Incumbent  ...   \n",
       "\n",
       "  ThirdVotes      ThirdCandidate ThirdStatus OtherVotes PluralityVotes  \\\n",
       "0        163            Write-In  Challenger        NaN         64,002   \n",
       "1      7,810            Write-In  Challenger        NaN        200,273   \n",
       "2        198            Write-In  Challenger        NaN         55,480   \n",
       "3      4,302  Scattered Write-In  Challenger        NaN        192,072   \n",
       "4        420            Write-In  Challenger        NaN         51,948   \n",
       "\n",
       "  PluralityParty ThirdVotesTotalPercent  RepVotesMajorPercent  \\\n",
       "0              R                   0.07                 63.20   \n",
       "1              R                   3.62                100.00   \n",
       "2              R                   0.13                 68.25   \n",
       "3              R                   2.14                100.00   \n",
       "4              R                   0.19                 61.50   \n",
       "\n",
       "  DemVotesMajorPercent RaceNotes  \n",
       "0                36.80       NaN  \n",
       "1                 0.00       NaN  \n",
       "2                31.75       NaN  \n",
       "3                 0.00       NaN  \n",
       "4                38.50       NaN  \n",
       "\n",
       "[5 rows x 24 columns]"
      ]
     },
     "execution_count": 269,
     "metadata": {},
     "output_type": "execute_result"
    }
   ],
   "source": [
    "# Reading in all voting records\n",
    "states_1 = pd.read_csv(\"Alabama.csv\",skiprows= 2)\n",
    "states_2 = pd.read_csv('Alaska-Hawaii.csv', skiprows =2)\n",
    "states_3 = pd.read_csv('Idaho-Massachusets.csv', skiprows = 2)\n",
    "states_4 = pd.read_csv('Michigan to New Mexico.csv', skiprows = 2)\n",
    "states_5 = pd.read_csv('New York-South Dakota.csv', skiprows = 2)\n",
    "states_6 = pd.read_csv('Tennesee-Wyoming.csv', skiprows = 2)\n",
    "states_1.head()"
   ]
  },
  {
   "cell_type": "code",
   "execution_count": 270,
   "metadata": {},
   "outputs": [],
   "source": [
    "# Concatenating all the states together\n",
    "final_states = pd.concat([states_1, states_2,states_3,states_4,states_5,states_6])"
   ]
  },
  {
   "cell_type": "code",
   "execution_count": 271,
   "metadata": {},
   "outputs": [
    {
     "data": {
      "text/html": [
       "<div>\n",
       "<style scoped>\n",
       "    .dataframe tbody tr th:only-of-type {\n",
       "        vertical-align: middle;\n",
       "    }\n",
       "\n",
       "    .dataframe tbody tr th {\n",
       "        vertical-align: top;\n",
       "    }\n",
       "\n",
       "    .dataframe thead th {\n",
       "        text-align: right;\n",
       "    }\n",
       "</style>\n",
       "<table border=\"1\" class=\"dataframe\">\n",
       "  <thead>\n",
       "    <tr style=\"text-align: right;\">\n",
       "      <th></th>\n",
       "      <th>State</th>\n",
       "      <th>PluralityParty</th>\n",
       "      <th>raceYear</th>\n",
       "    </tr>\n",
       "  </thead>\n",
       "  <tbody>\n",
       "    <tr>\n",
       "      <th>0</th>\n",
       "      <td>Alabama</td>\n",
       "      <td>R</td>\n",
       "      <td>2018</td>\n",
       "    </tr>\n",
       "    <tr>\n",
       "      <th>1</th>\n",
       "      <td>Alabama</td>\n",
       "      <td>R</td>\n",
       "      <td>2016</td>\n",
       "    </tr>\n",
       "    <tr>\n",
       "      <th>2</th>\n",
       "      <td>Alabama</td>\n",
       "      <td>R</td>\n",
       "      <td>2014</td>\n",
       "    </tr>\n",
       "    <tr>\n",
       "      <th>3</th>\n",
       "      <td>Alabama</td>\n",
       "      <td>R</td>\n",
       "      <td>2012</td>\n",
       "    </tr>\n",
       "    <tr>\n",
       "      <th>4</th>\n",
       "      <td>Alabama</td>\n",
       "      <td>R</td>\n",
       "      <td>2018</td>\n",
       "    </tr>\n",
       "  </tbody>\n",
       "</table>\n",
       "</div>"
      ],
      "text/plain": [
       "     State PluralityParty  raceYear\n",
       "0  Alabama              R      2018\n",
       "1  Alabama              R      2016\n",
       "2  Alabama              R      2014\n",
       "3  Alabama              R      2012\n",
       "4  Alabama              R      2018"
      ]
     },
     "execution_count": 271,
     "metadata": {},
     "output_type": "execute_result"
    }
   ],
   "source": [
    "# Cleaning dataset\n",
    "pd.set_option('mode.chained_assignment', None)\n",
    "congressional_data = final_states[['State','PluralityParty','raceYear']].dropna()\n",
    "cleaned_congressional_data = congressional_data[congressional_data['State'] != 'State']\n",
    "cleaned_congressional_data['raceYear'] = cleaned_congressional_data['raceYear'].astype(int)\n",
    "cleaned_congressional_data.head()"
   ]
  },
  {
   "cell_type": "markdown",
   "metadata": {},
   "source": [
    "### Cleaning Gun Violence Data\n",
    "The gun violence data set was already pretty clean since we obtained it from kaggle. However, it included a lot of information that we did not need to do our exploratory analysis. To clean our data we will:\n",
    "- Read in our dataset\n",
    "- Remove all columns except for the state and date\n",
    "- Drop rows with NaN because they will not provide us with information we want"
   ]
  },
  {
   "cell_type": "code",
   "execution_count": 272,
   "metadata": {},
   "outputs": [
    {
     "data": {
      "text/html": [
       "<div>\n",
       "<style scoped>\n",
       "    .dataframe tbody tr th:only-of-type {\n",
       "        vertical-align: middle;\n",
       "    }\n",
       "\n",
       "    .dataframe tbody tr th {\n",
       "        vertical-align: top;\n",
       "    }\n",
       "\n",
       "    .dataframe thead th {\n",
       "        text-align: right;\n",
       "    }\n",
       "</style>\n",
       "<table border=\"1\" class=\"dataframe\">\n",
       "  <thead>\n",
       "    <tr style=\"text-align: right;\">\n",
       "      <th></th>\n",
       "      <th>state</th>\n",
       "      <th>Year</th>\n",
       "    </tr>\n",
       "  </thead>\n",
       "  <tbody>\n",
       "    <tr>\n",
       "      <th>0</th>\n",
       "      <td>Pennsylvania</td>\n",
       "      <td>2013</td>\n",
       "    </tr>\n",
       "    <tr>\n",
       "      <th>1</th>\n",
       "      <td>California</td>\n",
       "      <td>2013</td>\n",
       "    </tr>\n",
       "    <tr>\n",
       "      <th>2</th>\n",
       "      <td>Ohio</td>\n",
       "      <td>2013</td>\n",
       "    </tr>\n",
       "    <tr>\n",
       "      <th>3</th>\n",
       "      <td>Colorado</td>\n",
       "      <td>2013</td>\n",
       "    </tr>\n",
       "    <tr>\n",
       "      <th>4</th>\n",
       "      <td>North Carolina</td>\n",
       "      <td>2013</td>\n",
       "    </tr>\n",
       "  </tbody>\n",
       "</table>\n",
       "</div>"
      ],
      "text/plain": [
       "            state  Year\n",
       "0    Pennsylvania  2013\n",
       "1      California  2013\n",
       "2            Ohio  2013\n",
       "3        Colorado  2013\n",
       "4  North Carolina  2013"
      ]
     },
     "execution_count": 272,
     "metadata": {},
     "output_type": "execute_result"
    }
   ],
   "source": [
    "# Reading in Gun violence data\n",
    "gun_data = pd.read_csv('gun-violence-data_01-2013_03-2018.csv')\n",
    "# We will remove NaN because we will not know which congressional district the violence occurd\n",
    "cleaned_gun_data = gun_data[['state','date','congressional_district']].dropna()\n",
    "# Converting all the date to Years and dropping date\n",
    "cleaned_gun_data['Date'] = pd.to_datetime(cleaned_gun_data['date'], errors='coerce')\n",
    "cleaned_gun_data['Year'] = cleaned_gun_data['Date'].dt.year\n",
    "cleaned_gun_data = cleaned_gun_data.drop(['date','Date','congressional_district'], axis = 1)\n",
    "cleaned_gun_data.head()"
   ]
  },
  {
   "cell_type": "markdown",
   "metadata": {},
   "source": [
    "## Data Wrangling / Visualization\n",
    "We will use a bar plot to visualize the dominance of each party per congressional cycle. There will also be a trend line visualizing the total amount of violence in that state per year."
   ]
  },
  {
   "cell_type": "markdown",
   "metadata": {},
   "source": [
    "#### Making Functions to clean our data and make new data tables "
   ]
  },
  {
   "cell_type": "code",
   "execution_count": 273,
   "metadata": {},
   "outputs": [],
   "source": [
    "# Function to find total amound of gun violence in a specific state per year\n",
    "def total_violence(state):\n",
    "    total = []\n",
    "    for i in range(2013,2019, 2):\n",
    "        year1 = cleaned_gun_data.loc[cleaned_gun_data['Year'] == i]\n",
    "        year2 = cleaned_gun_data.loc[cleaned_gun_data['Year'] == i+1]\n",
    "        count = len(year1.loc[year1['state'] == state]) + len(year2.loc[year2['state'] == state])\n",
    "        total.append(count)\n",
    "    return total"
   ]
  },
  {
   "cell_type": "code",
   "execution_count": 274,
   "metadata": {},
   "outputs": [],
   "source": [
    "#Function to find percentage Republican per election cycle in each state.\n",
    "def percent_rep(s):\n",
    "    percentage_rep = []\n",
    "    for i in range(2014, 2019, 2):\n",
    "        target = cleaned_congressional_data[(cleaned_congressional_data['State'] == s) & (cleaned_congressional_data['raceYear'] == i)]\n",
    "        rep = len(target.loc[target['PluralityParty'] == 'R'])\n",
    "        dem = len(target.loc[target['PluralityParty'] == 'D'])\n",
    "        total = rep + dem\n",
    "        percentage_rep.append(rep/total)\n",
    "    return percentage_rep"
   ]
  },
  {
   "cell_type": "code",
   "execution_count": 275,
   "metadata": {},
   "outputs": [],
   "source": [
    "#Function to find percentage Democrat per each election cycle in each state.\n",
    "def percent_dem(s):\n",
    "    percentage_dem = []\n",
    "    for i in range(2014, 2019, 2):\n",
    "        target = cleaned_congressional_data[(cleaned_congressional_data['State'] == s) & (cleaned_congressional_data['raceYear'] == i)]\n",
    "        rep = len(target.loc[target['PluralityParty'] == 'R'])\n",
    "        dem = len(target.loc[target['PluralityParty'] == 'D'])\n",
    "        total = rep + dem\n",
    "        percentage_dem.append(dem/total)\n",
    "    return percentage_dem"
   ]
  },
  {
   "cell_type": "code",
   "execution_count": 276,
   "metadata": {},
   "outputs": [
    {
     "data": {
      "text/html": [
       "<div>\n",
       "<style scoped>\n",
       "    .dataframe tbody tr th:only-of-type {\n",
       "        vertical-align: middle;\n",
       "    }\n",
       "\n",
       "    .dataframe tbody tr th {\n",
       "        vertical-align: top;\n",
       "    }\n",
       "\n",
       "    .dataframe thead th {\n",
       "        text-align: right;\n",
       "    }\n",
       "</style>\n",
       "<table border=\"1\" class=\"dataframe\">\n",
       "  <thead>\n",
       "    <tr style=\"text-align: right;\">\n",
       "      <th></th>\n",
       "      <th>2014</th>\n",
       "      <th>2016</th>\n",
       "      <th>2018</th>\n",
       "    </tr>\n",
       "  </thead>\n",
       "  <tbody>\n",
       "    <tr>\n",
       "      <th>Alabama</th>\n",
       "      <td>1317</td>\n",
       "      <td>2256</td>\n",
       "      <td>1644</td>\n",
       "    </tr>\n",
       "    <tr>\n",
       "      <th>Alaska</th>\n",
       "      <td>132</td>\n",
       "      <td>793</td>\n",
       "      <td>232</td>\n",
       "    </tr>\n",
       "    <tr>\n",
       "      <th>Arizona</th>\n",
       "      <td>561</td>\n",
       "      <td>1002</td>\n",
       "      <td>691</td>\n",
       "    </tr>\n",
       "    <tr>\n",
       "      <th>Arkansas</th>\n",
       "      <td>572</td>\n",
       "      <td>1201</td>\n",
       "      <td>950</td>\n",
       "    </tr>\n",
       "    <tr>\n",
       "      <th>California</th>\n",
       "      <td>3750</td>\n",
       "      <td>6732</td>\n",
       "      <td>5310</td>\n",
       "    </tr>\n",
       "  </tbody>\n",
       "</table>\n",
       "</div>"
      ],
      "text/plain": [
       "            2014  2016  2018\n",
       "Alabama     1317  2256  1644\n",
       "Alaska       132   793   232\n",
       "Arizona      561  1002   691\n",
       "Arkansas     572  1201   950\n",
       "California  3750  6732  5310"
      ]
     },
     "execution_count": 276,
     "metadata": {},
     "output_type": "execute_result"
    }
   ],
   "source": [
    "#Making new data table plotting total violence in years of congressional elections\n",
    "list_of_state = cleaned_congressional_data['State'].unique().tolist()\n",
    "total_violence_list = []\n",
    "for state in list_of_state:\n",
    "    total_violence_list.append(total_violence(state))\n",
    "df_total_violence = pd.DataFrame(np.array(total_violence_list), index=list_of_state, columns=[2014, 2016, 2018])\n",
    "df_total_violence.head()"
   ]
  },
  {
   "cell_type": "code",
   "execution_count": 277,
   "metadata": {},
   "outputs": [
    {
     "data": {
      "text/html": [
       "<div>\n",
       "<style scoped>\n",
       "    .dataframe tbody tr th:only-of-type {\n",
       "        vertical-align: middle;\n",
       "    }\n",
       "\n",
       "    .dataframe tbody tr th {\n",
       "        vertical-align: top;\n",
       "    }\n",
       "\n",
       "    .dataframe thead th {\n",
       "        text-align: right;\n",
       "    }\n",
       "</style>\n",
       "<table border=\"1\" class=\"dataframe\">\n",
       "  <thead>\n",
       "    <tr style=\"text-align: right;\">\n",
       "      <th></th>\n",
       "      <th>2014</th>\n",
       "      <th>2016</th>\n",
       "      <th>2018</th>\n",
       "    </tr>\n",
       "  </thead>\n",
       "  <tbody>\n",
       "    <tr>\n",
       "      <th>Alabama</th>\n",
       "      <td>0.857143</td>\n",
       "      <td>0.857143</td>\n",
       "      <td>0.857143</td>\n",
       "    </tr>\n",
       "    <tr>\n",
       "      <th>Alaska</th>\n",
       "      <td>1.000000</td>\n",
       "      <td>1.000000</td>\n",
       "      <td>1.000000</td>\n",
       "    </tr>\n",
       "    <tr>\n",
       "      <th>Arizona</th>\n",
       "      <td>0.555556</td>\n",
       "      <td>0.555556</td>\n",
       "      <td>0.444444</td>\n",
       "    </tr>\n",
       "    <tr>\n",
       "      <th>Arkansas</th>\n",
       "      <td>1.000000</td>\n",
       "      <td>1.000000</td>\n",
       "      <td>1.000000</td>\n",
       "    </tr>\n",
       "    <tr>\n",
       "      <th>California</th>\n",
       "      <td>0.264151</td>\n",
       "      <td>0.269231</td>\n",
       "      <td>0.132075</td>\n",
       "    </tr>\n",
       "  </tbody>\n",
       "</table>\n",
       "</div>"
      ],
      "text/plain": [
       "                2014      2016      2018\n",
       "Alabama     0.857143  0.857143  0.857143\n",
       "Alaska      1.000000  1.000000  1.000000\n",
       "Arizona     0.555556  0.555556  0.444444\n",
       "Arkansas    1.000000  1.000000  1.000000\n",
       "California  0.264151  0.269231  0.132075"
      ]
     },
     "execution_count": 277,
     "metadata": {},
     "output_type": "execute_result"
    }
   ],
   "source": [
    "#Percent Republican in each state\n",
    "percent_rep_list = []\n",
    "for state in list_of_state:\n",
    "    percent_rep_list.append(percent_rep(state))\n",
    "df_percent_rep = pd.DataFrame(np.array(percent_rep_list), index=list_of_state, columns=[2014, 2016, 2018])\n",
    "df_percent_rep.head()"
   ]
  },
  {
   "cell_type": "code",
   "execution_count": 278,
   "metadata": {},
   "outputs": [
    {
     "data": {
      "text/html": [
       "<div>\n",
       "<style scoped>\n",
       "    .dataframe tbody tr th:only-of-type {\n",
       "        vertical-align: middle;\n",
       "    }\n",
       "\n",
       "    .dataframe tbody tr th {\n",
       "        vertical-align: top;\n",
       "    }\n",
       "\n",
       "    .dataframe thead th {\n",
       "        text-align: right;\n",
       "    }\n",
       "</style>\n",
       "<table border=\"1\" class=\"dataframe\">\n",
       "  <thead>\n",
       "    <tr style=\"text-align: right;\">\n",
       "      <th></th>\n",
       "      <th>2014</th>\n",
       "      <th>2016</th>\n",
       "      <th>2018</th>\n",
       "    </tr>\n",
       "  </thead>\n",
       "  <tbody>\n",
       "    <tr>\n",
       "      <th>Alabama</th>\n",
       "      <td>0.142857</td>\n",
       "      <td>0.142857</td>\n",
       "      <td>0.142857</td>\n",
       "    </tr>\n",
       "    <tr>\n",
       "      <th>Alaska</th>\n",
       "      <td>0.000000</td>\n",
       "      <td>0.000000</td>\n",
       "      <td>0.000000</td>\n",
       "    </tr>\n",
       "    <tr>\n",
       "      <th>Arizona</th>\n",
       "      <td>0.444444</td>\n",
       "      <td>0.444444</td>\n",
       "      <td>0.555556</td>\n",
       "    </tr>\n",
       "    <tr>\n",
       "      <th>Arkansas</th>\n",
       "      <td>0.000000</td>\n",
       "      <td>0.000000</td>\n",
       "      <td>0.000000</td>\n",
       "    </tr>\n",
       "    <tr>\n",
       "      <th>California</th>\n",
       "      <td>0.735849</td>\n",
       "      <td>0.730769</td>\n",
       "      <td>0.867925</td>\n",
       "    </tr>\n",
       "  </tbody>\n",
       "</table>\n",
       "</div>"
      ],
      "text/plain": [
       "                2014      2016      2018\n",
       "Alabama     0.142857  0.142857  0.142857\n",
       "Alaska      0.000000  0.000000  0.000000\n",
       "Arizona     0.444444  0.444444  0.555556\n",
       "Arkansas    0.000000  0.000000  0.000000\n",
       "California  0.735849  0.730769  0.867925"
      ]
     },
     "execution_count": 278,
     "metadata": {},
     "output_type": "execute_result"
    }
   ],
   "source": [
    "#Percent Democrat in each state\n",
    "percent_dem_list = []\n",
    "for state in list_of_state:\n",
    "    percent_dem_list.append(percent_dem(state))\n",
    "df_percent_dem = pd.DataFrame(np.array(percent_dem_list),index = list_of_state, columns = [2014, 2016, 2018])\n",
    "df_percent_dem.head()"
   ]
  },
  {
   "cell_type": "markdown",
   "metadata": {},
   "source": [
    "## Final Data Table of all our datasets put into one"
   ]
  },
  {
   "cell_type": "code",
   "execution_count": 279,
   "metadata": {},
   "outputs": [
    {
     "data": {
      "text/html": [
       "<div>\n",
       "<style scoped>\n",
       "    .dataframe tbody tr th:only-of-type {\n",
       "        vertical-align: middle;\n",
       "    }\n",
       "\n",
       "    .dataframe tbody tr th {\n",
       "        vertical-align: top;\n",
       "    }\n",
       "\n",
       "    .dataframe thead th {\n",
       "        text-align: right;\n",
       "    }\n",
       "</style>\n",
       "<table border=\"1\" class=\"dataframe\">\n",
       "  <thead>\n",
       "    <tr style=\"text-align: right;\">\n",
       "      <th></th>\n",
       "      <th>PropR</th>\n",
       "      <th>PropD</th>\n",
       "      <th>Violence</th>\n",
       "      <th>State</th>\n",
       "    </tr>\n",
       "    <tr>\n",
       "      <th>Year</th>\n",
       "      <th></th>\n",
       "      <th></th>\n",
       "      <th></th>\n",
       "      <th></th>\n",
       "    </tr>\n",
       "  </thead>\n",
       "  <tbody>\n",
       "    <tr>\n",
       "      <th>2014</th>\n",
       "      <td>0.857143</td>\n",
       "      <td>0.142857</td>\n",
       "      <td>1317</td>\n",
       "      <td>Alabama</td>\n",
       "    </tr>\n",
       "    <tr>\n",
       "      <th>2016</th>\n",
       "      <td>0.857143</td>\n",
       "      <td>0.142857</td>\n",
       "      <td>2256</td>\n",
       "      <td>Alabama</td>\n",
       "    </tr>\n",
       "    <tr>\n",
       "      <th>2018</th>\n",
       "      <td>0.857143</td>\n",
       "      <td>0.142857</td>\n",
       "      <td>1644</td>\n",
       "      <td>Alabama</td>\n",
       "    </tr>\n",
       "    <tr>\n",
       "      <th>2014</th>\n",
       "      <td>1.000000</td>\n",
       "      <td>0.000000</td>\n",
       "      <td>132</td>\n",
       "      <td>Alaska</td>\n",
       "    </tr>\n",
       "    <tr>\n",
       "      <th>2016</th>\n",
       "      <td>1.000000</td>\n",
       "      <td>0.000000</td>\n",
       "      <td>793</td>\n",
       "      <td>Alaska</td>\n",
       "    </tr>\n",
       "  </tbody>\n",
       "</table>\n",
       "</div>"
      ],
      "text/plain": [
       "         PropR     PropD  Violence    State\n",
       "Year                                       \n",
       "2014  0.857143  0.142857      1317  Alabama\n",
       "2016  0.857143  0.142857      2256  Alabama\n",
       "2018  0.857143  0.142857      1644  Alabama\n",
       "2014  1.000000  0.000000       132   Alaska\n",
       "2016  1.000000  0.000000       793   Alaska"
      ]
     },
     "execution_count": 279,
     "metadata": {},
     "output_type": "execute_result"
    }
   ],
   "source": [
    "states = pd.Series(list_of_state)\n",
    "#Extract each value that is in the nested list for Democrats and Republicans\n",
    "dem_list = []\n",
    "for i in percent_dem_list:\n",
    "    for j in i:\n",
    "        dem_list.append(j)\n",
    "rep_list = []\n",
    "for i in percent_rep_list:\n",
    "    for j in i:\n",
    "        rep_list.append(j)\n",
    "#Exract total violence for that specific state for that specific year\n",
    "violence = []\n",
    "for i in total_violence_list:\n",
    "    for j in i:\n",
    "        violence.append(j)\n",
    "#Telling python to cycle through 2014,2016,2018 to align with states\n",
    "data = {'PropR':rep_list, 'PropD':dem_list, 'Violence': violence, 'State': states.repeat(3)}\n",
    "final_table = pd.DataFrame(data)\n",
    "years = cycle(['2014','2016','2018'])\n",
    "final_table['Year'] = [next(years) for year in range(len(final_table))]\n",
    "final_table = final_table.set_index('Year')\n",
    "final_table.head()"
   ]
  },
  {
   "cell_type": "markdown",
   "metadata": {},
   "source": [
    "## Visualization of Data\n",
    "We have that our data is mirrored, meaning that the proportions added up to one. Hence, we decided to choose Democrats in order to see if our hypothesis is correct or not."
   ]
  },
  {
   "cell_type": "markdown",
   "metadata": {},
   "source": [
    "### Democrats  2014 "
   ]
  },
  {
   "cell_type": "code",
   "execution_count": 280,
   "metadata": {},
   "outputs": [
    {
     "data": {
      "text/plain": [
       "Text(0, 0.5, 'Proportion of Democrats (0-1)')"
      ]
     },
     "execution_count": 280,
     "metadata": {},
     "output_type": "execute_result"
    },
    {
     "data": {
      "image/png": "[encoded data removed]",
      "text/plain": [
       "<Figure size 432x288 with 1 Axes>"
      ]
     },
     "metadata": {
      "needs_background": "light"
     },
     "output_type": "display_data"
    }
   ],
   "source": [
    "x = df_total_violence[2014].tolist()\n",
    "y = df_percent_dem[2014].tolist()\n",
    "plt.scatter(x, y, label=\"2014\", color=\"blue\")\n",
    "plt.title('Proportion of Democrats in 2014 vs. Total Amound of Gun Violence in 2014') \n",
    "plt.xlabel('Total Violence') \n",
    "plt.ylabel('Proportion of Democrats (0-1)') "
   ]
  },
  {
   "cell_type": "markdown",
   "metadata": {},
   "source": [
    "### Democrats in 2016"
   ]
  },
  {
   "cell_type": "code",
   "execution_count": 281,
   "metadata": {},
   "outputs": [
    {
     "data": {
      "text/plain": [
       "Text(0, 0.5, 'Proportion of Democrats (0-1)')"
      ]
     },
     "execution_count": 281,
     "metadata": {},
     "output_type": "execute_result"
    },
    {
     "data": {
      "image/png": "[encoded data removed]",
      "text/plain": [
       "<Figure size 432x288 with 1 Axes>"
      ]
     },
     "metadata": {
      "needs_background": "light"
     },
     "output_type": "display_data"
    }
   ],
   "source": [
    "x = df_total_violence[2016].tolist()\n",
    "y = df_percent_dem[2016].tolist()\n",
    "plt.scatter(x, y, label=\"2016\", color=\"blue\")\n",
    "plt.title('Proportion of Democrats in 2016 vs. Total Amound of Gun Violence in 2016') \n",
    "plt.xlabel('Total Violence') \n",
    "plt.ylabel('Proportion of Democrats (0-1)') "
   ]
  },
  {
   "cell_type": "markdown",
   "metadata": {},
   "source": [
    "### Democrats in 2018"
   ]
  },
  {
   "cell_type": "code",
   "execution_count": 282,
   "metadata": {},
   "outputs": [
    {
     "data": {
      "text/plain": [
       "Text(0, 0.5, 'Proportion of Democrats (0-1)')"
      ]
     },
     "execution_count": 282,
     "metadata": {},
     "output_type": "execute_result"
    },
    {
     "data": {
      "image/png": "[encoded data removed]",
      "text/plain": [
       "<Figure size 432x288 with 1 Axes>"
      ]
     },
     "metadata": {
      "needs_background": "light"
     },
     "output_type": "display_data"
    }
   ],
   "source": [
    "x = df_total_violence[2018].tolist()\n",
    "y = df_percent_dem[2018].tolist()\n",
    "plt.scatter(x, y, label=\"2018\", color=\"blue\")\n",
    "plt.title('Proportion of Democrats in 2018 vs. Total Amound of Gun Violence in 2018') \n",
    "plt.xlabel('Total Violence') \n",
    "plt.ylabel('Proportion of Democrats (0-1)') "
   ]
  },
  {
   "cell_type": "markdown",
   "metadata": {},
   "source": [
    "## Key Swing States\n",
    "This will allow us to see if gun violence does have an impact on these key states. This is so because they are not considered \"solid\" Democrat or Republican, which would give us a gauge of how important gun violence is to them. Key states are a better representation of our country because they are the only ones that sway between party from year to year."
   ]
  },
  {
   "cell_type": "code",
   "execution_count": 283,
   "metadata": {},
   "outputs": [],
   "source": [
    "# Gathering all the swing states together.\n",
    "swing_states = ['Colorado', 'Florida', 'Iowa', 'Michigan', 'Minnesota', 'Ohio', 'Nevada', 'New Hampshire', 'North Carolina', 'Pennsylvania', 'Virginia', 'Wisconsin']\n",
    "df_total_violence_swing = df_total_violence.loc[swing_states]\n",
    "df_percent_rep_swing = df_percent_rep.loc[swing_states]\n",
    "df_percent_dem_swing = df_percent_dem.loc[swing_states]"
   ]
  },
  {
   "cell_type": "code",
   "execution_count": 284,
   "metadata": {},
   "outputs": [
    {
     "data": {
      "text/plain": [
       "Text(0, 0.5, 'Proportion of Democrats (0-1)')"
      ]
     },
     "execution_count": 284,
     "metadata": {},
     "output_type": "execute_result"
    },
    {
     "data": {
      "image/png": "[encoded data removed]",
      "text/plain": [
       "<Figure size 432x288 with 1 Axes>"
      ]
     },
     "metadata": {
      "needs_background": "light"
     },
     "output_type": "display_data"
    }
   ],
   "source": [
    "x = df_total_violence_swing[2014].tolist()\n",
    "y = df_percent_dem_swing[2014].tolist()\n",
    "plt.scatter(x, y, label=\"2014\", color=\"blue\")\n",
    "plt.title('Proportion of Democrats in Swing States in 2014 vs. Total Amount of Gun Violence in 2014') \n",
    "plt.xlabel('Total Violence') \n",
    "plt.ylabel('Proportion of Democrats (0-1)') "
   ]
  },
  {
   "cell_type": "code",
   "execution_count": 285,
   "metadata": {
    "scrolled": true
   },
   "outputs": [
    {
     "data": {
      "text/plain": [
       "Text(0, 0.5, 'Proportion of Democrats (0-1)')"
      ]
     },
     "execution_count": 285,
     "metadata": {},
     "output_type": "execute_result"
    },
    {
     "data": {
      "image/png": "[encoded data removed]",
      "text/plain": [
       "<Figure size 432x288 with 1 Axes>"
      ]
     },
     "metadata": {
      "needs_background": "light"
     },
     "output_type": "display_data"
    }
   ],
   "source": [
    "x = df_total_violence_swing[2016].tolist()\n",
    "y = df_percent_dem_swing[2016].tolist()\n",
    "plt.scatter(x, y, label=\"2016\", color=\"blue\")\n",
    "plt.title('Proportion of Democrats in Swing States in 2016 vs. Total Amound of Gun Violence in 2016') \n",
    "plt.xlabel('Total Violence') \n",
    "plt.ylabel('Proportion of Democrats (0-1)') "
   ]
  },
  {
   "cell_type": "code",
   "execution_count": 286,
   "metadata": {},
   "outputs": [
    {
     "data": {
      "text/plain": [
       "Text(0, 0.5, 'Proportion of Democrats (0-1)')"
      ]
     },
     "execution_count": 286,
     "metadata": {},
     "output_type": "execute_result"
    },
    {
     "data": {
      "image/png": "[encoded data removed]",
      "text/plain": [
       "<Figure size 432x288 with 1 Axes>"
      ]
     },
     "metadata": {
      "needs_background": "light"
     },
     "output_type": "display_data"
    }
   ],
   "source": [
    "x = df_total_violence_swing[2018].tolist()\n",
    "y = df_percent_dem_swing[2018].tolist()\n",
    "plt.scatter(x, y, label=\"2018\", color=\"blue\")\n",
    "plt.title('Proportion of Democrats in Swing States in 2018 vs. Total Amound of Gun Violence in 2018') \n",
    "plt.xlabel('Total Violence') \n",
    "plt.ylabel('Proportion of Democrats (0-1)') "
   ]
  },
  {
   "cell_type": "markdown",
   "metadata": {},
   "source": [
    "# Running Statistical Analysis"
   ]
  },
  {
   "cell_type": "markdown",
   "metadata": {},
   "source": [
    "We will begin running analysis on the graph that has all the states in the graph to see the general direction of each year."
   ]
  },
  {
   "cell_type": "markdown",
   "metadata": {},
   "source": [
    "## Linear Regression"
   ]
  },
  {
   "cell_type": "code",
   "execution_count": 287,
   "metadata": {},
   "outputs": [],
   "source": [
    "#imports to perform our linear regression and statistics\n",
    "from  matplotlib import pyplot\n",
    "from sklearn import linear_model\n",
    "import statsmodels.api as sm\n",
    "from sklearn.metrics import mean_squared_error, r2_score\n",
    "from sklearn.linear_model import LinearRegression\n",
    "from sklearn.preprocessing import PolynomialFeatures"
   ]
  },
  {
   "cell_type": "code",
   "execution_count": 288,
   "metadata": {},
   "outputs": [],
   "source": [
    "#function to run linear regression on our tables\n",
    "def regression(year):\n",
    "    x_values=df_total_violence[year].values[:,np.newaxis]\n",
    "    y_values=df_percent_dem[year].values[:,np.newaxis]\n",
    "\n",
    "    violence_reg = linear_model.LinearRegression()\n",
    "    violence_reg.fit(x_values, y_values)\n",
    "    prediction=violence_reg.predict(np.sort(x_values, axis=0))\n",
    "\n",
    "    pyplot.scatter(x_values, y_values)\n",
    "    pyplot.plot(np.sort(x_values, axis=0),prediction,color = 'blue')\n",
    "    return pyplot.show()\n",
    "def statistics(year):\n",
    "    x = df_total_violence[year].values[:,np.newaxis]\n",
    "    y = df_percent_dem[year].values[:,np.newaxis]\n",
    "    x, y = np.array(x), np.array(y)\n",
    "    x = sm.add_constant(x)\n",
    "    model = sm.OLS(y, x)\n",
    "    results = model.fit()\n",
    "    return results.summary()"
   ]
  },
  {
   "cell_type": "code",
   "execution_count": 289,
   "metadata": {},
   "outputs": [
    {
     "data": {
      "image/png": "[encoded data removed]",
      "text/plain": [
       "<Figure size 432x288 with 1 Axes>"
      ]
     },
     "metadata": {
      "needs_background": "light"
     },
     "output_type": "display_data"
    },
    {
     "data": {
      "text/html": [
       "<table class=\"simpletable\">\n",
       "<caption>OLS Regression Results</caption>\n",
       "<tr>\n",
       "  <th>Dep. Variable:</th>            <td>y</td>        <th>  R-squared:         </th> <td>   0.003</td>\n",
       "</tr>\n",
       "<tr>\n",
       "  <th>Model:</th>                   <td>OLS</td>       <th>  Adj. R-squared:    </th> <td>  -0.018</td>\n",
       "</tr>\n",
       "<tr>\n",
       "  <th>Method:</th>             <td>Least Squares</td>  <th>  F-statistic:       </th> <td>  0.1417</td>\n",
       "</tr>\n",
       "<tr>\n",
       "  <th>Date:</th>             <td>Thu, 16 May 2019</td> <th>  Prob (F-statistic):</th>  <td> 0.708</td> \n",
       "</tr>\n",
       "<tr>\n",
       "  <th>Time:</th>                 <td>23:00:30</td>     <th>  Log-Likelihood:    </th> <td> -14.042</td>\n",
       "</tr>\n",
       "<tr>\n",
       "  <th>No. Observations:</th>      <td>    50</td>      <th>  AIC:               </th> <td>   32.08</td>\n",
       "</tr>\n",
       "<tr>\n",
       "  <th>Df Residuals:</th>          <td>    48</td>      <th>  BIC:               </th> <td>   35.91</td>\n",
       "</tr>\n",
       "<tr>\n",
       "  <th>Df Model:</th>              <td>     1</td>      <th>                     </th>     <td> </td>   \n",
       "</tr>\n",
       "<tr>\n",
       "  <th>Covariance Type:</th>      <td>nonrobust</td>    <th>                     </th>     <td> </td>   \n",
       "</tr>\n",
       "</table>\n",
       "<table class=\"simpletable\">\n",
       "<tr>\n",
       "    <td></td>       <th>coef</th>     <th>std err</th>      <th>t</th>      <th>P>|t|</th>  <th>[0.025</th>    <th>0.975]</th>  \n",
       "</tr>\n",
       "<tr>\n",
       "  <th>const</th> <td>    0.3655</td> <td>    0.069</td> <td>    5.326</td> <td> 0.000</td> <td>    0.228</td> <td>    0.503</td>\n",
       "</tr>\n",
       "<tr>\n",
       "  <th>x1</th>    <td> 1.867e-05</td> <td> 4.96e-05</td> <td>    0.376</td> <td> 0.708</td> <td>-8.11e-05</td> <td>    0.000</td>\n",
       "</tr>\n",
       "</table>\n",
       "<table class=\"simpletable\">\n",
       "<tr>\n",
       "  <th>Omnibus:</th>       <td> 5.076</td> <th>  Durbin-Watson:     </th> <td>   1.924</td>\n",
       "</tr>\n",
       "<tr>\n",
       "  <th>Prob(Omnibus):</th> <td> 0.079</td> <th>  Jarque-Bera (JB):  </th> <td>   4.764</td>\n",
       "</tr>\n",
       "<tr>\n",
       "  <th>Skew:</th>          <td> 0.695</td> <th>  Prob(JB):          </th> <td>  0.0924</td>\n",
       "</tr>\n",
       "<tr>\n",
       "  <th>Kurtosis:</th>      <td> 2.403</td> <th>  Cond. No.          </th> <td>2.05e+03</td>\n",
       "</tr>\n",
       "</table><br/><br/>Warnings:<br/>[1] Standard Errors assume that the covariance matrix of the errors is correctly specified.<br/>[2] The condition number is large, 2.05e+03. This might indicate that there are<br/>strong multicollinearity or other numerical problems."
      ],
      "text/plain": [
       "<class 'statsmodels.iolib.summary.Summary'>\n",
       "\"\"\"\n",
       "                            OLS Regression Results                            \n",
       "==============================================================================\n",
       "Dep. Variable:                      y   R-squared:                       0.003\n",
       "Model:                            OLS   Adj. R-squared:                 -0.018\n",
       "Method:                 Least Squares   F-statistic:                    0.1417\n",
       "Date:                Thu, 16 May 2019   Prob (F-statistic):              0.708\n",
       "Time:                        23:00:30   Log-Likelihood:                -14.042\n",
       "No. Observations:                  50   AIC:                             32.08\n",
       "Df Residuals:                      48   BIC:                             35.91\n",
       "Df Model:                           1                                         \n",
       "Covariance Type:            nonrobust                                         \n",
       "==============================================================================\n",
       "                 coef    std err          t      P>|t|      [0.025      0.975]\n",
       "------------------------------------------------------------------------------\n",
       "const          0.3655      0.069      5.326      0.000       0.228       0.503\n",
       "x1          1.867e-05   4.96e-05      0.376      0.708   -8.11e-05       0.000\n",
       "==============================================================================\n",
       "Omnibus:                        5.076   Durbin-Watson:                   1.924\n",
       "Prob(Omnibus):                  0.079   Jarque-Bera (JB):                4.764\n",
       "Skew:                           0.695   Prob(JB):                       0.0924\n",
       "Kurtosis:                       2.403   Cond. No.                     2.05e+03\n",
       "==============================================================================\n",
       "\n",
       "Warnings:\n",
       "[1] Standard Errors assume that the covariance matrix of the errors is correctly specified.\n",
       "[2] The condition number is large, 2.05e+03. This might indicate that there are\n",
       "strong multicollinearity or other numerical problems.\n",
       "\"\"\""
      ]
     },
     "execution_count": 289,
     "metadata": {},
     "output_type": "execute_result"
    }
   ],
   "source": [
    "#running linear regression for 2014\n",
    "regression(2014)\n",
    "statistics(2014)"
   ]
  },
  {
   "cell_type": "code",
   "execution_count": 290,
   "metadata": {},
   "outputs": [
    {
     "data": {
      "image/png": "[encoded data removed]",
      "text/plain": [
       "<Figure size 432x288 with 1 Axes>"
      ]
     },
     "metadata": {
      "needs_background": "light"
     },
     "output_type": "display_data"
    },
    {
     "data": {
      "text/html": [
       "<table class=\"simpletable\">\n",
       "<caption>OLS Regression Results</caption>\n",
       "<tr>\n",
       "  <th>Dep. Variable:</th>            <td>y</td>        <th>  R-squared:         </th> <td>   0.002</td>\n",
       "</tr>\n",
       "<tr>\n",
       "  <th>Model:</th>                   <td>OLS</td>       <th>  Adj. R-squared:    </th> <td>  -0.018</td>\n",
       "</tr>\n",
       "<tr>\n",
       "  <th>Method:</th>             <td>Least Squares</td>  <th>  F-statistic:       </th> <td>  0.1144</td>\n",
       "</tr>\n",
       "<tr>\n",
       "  <th>Date:</th>             <td>Thu, 16 May 2019</td> <th>  Prob (F-statistic):</th>  <td> 0.737</td> \n",
       "</tr>\n",
       "<tr>\n",
       "  <th>Time:</th>                 <td>23:00:31</td>     <th>  Log-Likelihood:    </th> <td> -17.091</td>\n",
       "</tr>\n",
       "<tr>\n",
       "  <th>No. Observations:</th>      <td>    50</td>      <th>  AIC:               </th> <td>   38.18</td>\n",
       "</tr>\n",
       "<tr>\n",
       "  <th>Df Residuals:</th>          <td>    48</td>      <th>  BIC:               </th> <td>   42.01</td>\n",
       "</tr>\n",
       "<tr>\n",
       "  <th>Df Model:</th>              <td>     1</td>      <th>                     </th>     <td> </td>   \n",
       "</tr>\n",
       "<tr>\n",
       "  <th>Covariance Type:</th>      <td>nonrobust</td>    <th>                     </th>     <td> </td>   \n",
       "</tr>\n",
       "</table>\n",
       "<table class=\"simpletable\">\n",
       "<tr>\n",
       "    <td></td>       <th>coef</th>     <th>std err</th>      <th>t</th>      <th>P>|t|</th>  <th>[0.025</th>    <th>0.975]</th>  \n",
       "</tr>\n",
       "<tr>\n",
       "  <th>const</th> <td>    0.3817</td> <td>    0.073</td> <td>    5.198</td> <td> 0.000</td> <td>    0.234</td> <td>    0.529</td>\n",
       "</tr>\n",
       "<tr>\n",
       "  <th>x1</th>    <td> 8.658e-06</td> <td> 2.56e-05</td> <td>    0.338</td> <td> 0.737</td> <td>-4.28e-05</td> <td> 6.01e-05</td>\n",
       "</tr>\n",
       "</table>\n",
       "<table class=\"simpletable\">\n",
       "<tr>\n",
       "  <th>Omnibus:</th>       <td> 7.239</td> <th>  Durbin-Watson:     </th> <td>   1.784</td>\n",
       "</tr>\n",
       "<tr>\n",
       "  <th>Prob(Omnibus):</th> <td> 0.027</td> <th>  Jarque-Bera (JB):  </th> <td>   4.518</td>\n",
       "</tr>\n",
       "<tr>\n",
       "  <th>Skew:</th>          <td> 0.564</td> <th>  Prob(JB):          </th> <td>   0.104</td>\n",
       "</tr>\n",
       "<tr>\n",
       "  <th>Kurtosis:</th>      <td> 2.054</td> <th>  Cond. No.          </th> <td>4.29e+03</td>\n",
       "</tr>\n",
       "</table><br/><br/>Warnings:<br/>[1] Standard Errors assume that the covariance matrix of the errors is correctly specified.<br/>[2] The condition number is large, 4.29e+03. This might indicate that there are<br/>strong multicollinearity or other numerical problems."
      ],
      "text/plain": [
       "<class 'statsmodels.iolib.summary.Summary'>\n",
       "\"\"\"\n",
       "                            OLS Regression Results                            \n",
       "==============================================================================\n",
       "Dep. Variable:                      y   R-squared:                       0.002\n",
       "Model:                            OLS   Adj. R-squared:                 -0.018\n",
       "Method:                 Least Squares   F-statistic:                    0.1144\n",
       "Date:                Thu, 16 May 2019   Prob (F-statistic):              0.737\n",
       "Time:                        23:00:31   Log-Likelihood:                -17.091\n",
       "No. Observations:                  50   AIC:                             38.18\n",
       "Df Residuals:                      48   BIC:                             42.01\n",
       "Df Model:                           1                                         \n",
       "Covariance Type:            nonrobust                                         \n",
       "==============================================================================\n",
       "                 coef    std err          t      P>|t|      [0.025      0.975]\n",
       "------------------------------------------------------------------------------\n",
       "const          0.3817      0.073      5.198      0.000       0.234       0.529\n",
       "x1          8.658e-06   2.56e-05      0.338      0.737   -4.28e-05    6.01e-05\n",
       "==============================================================================\n",
       "Omnibus:                        7.239   Durbin-Watson:                   1.784\n",
       "Prob(Omnibus):                  0.027   Jarque-Bera (JB):                4.518\n",
       "Skew:                           0.564   Prob(JB):                        0.104\n",
       "Kurtosis:                       2.054   Cond. No.                     4.29e+03\n",
       "==============================================================================\n",
       "\n",
       "Warnings:\n",
       "[1] Standard Errors assume that the covariance matrix of the errors is correctly specified.\n",
       "[2] The condition number is large, 4.29e+03. This might indicate that there are\n",
       "strong multicollinearity or other numerical problems.\n",
       "\"\"\""
      ]
     },
     "execution_count": 290,
     "metadata": {},
     "output_type": "execute_result"
    }
   ],
   "source": [
    "#running linear regression for 2016\n",
    "regression(2016)\n",
    "statistics(2016)"
   ]
  },
  {
   "cell_type": "code",
   "execution_count": 291,
   "metadata": {},
   "outputs": [
    {
     "data": {
      "image/png": "[encoded data removed]",
      "text/plain": [
       "<Figure size 432x288 with 1 Axes>"
      ]
     },
     "metadata": {
      "needs_background": "light"
     },
     "output_type": "display_data"
    },
    {
     "data": {
      "text/html": [
       "<table class=\"simpletable\">\n",
       "<caption>OLS Regression Results</caption>\n",
       "<tr>\n",
       "  <th>Dep. Variable:</th>            <td>y</td>        <th>  R-squared:         </th> <td>   0.004</td>\n",
       "</tr>\n",
       "<tr>\n",
       "  <th>Model:</th>                   <td>OLS</td>       <th>  Adj. R-squared:    </th> <td>  -0.017</td>\n",
       "</tr>\n",
       "<tr>\n",
       "  <th>Method:</th>             <td>Least Squares</td>  <th>  F-statistic:       </th> <td>  0.1823</td>\n",
       "</tr>\n",
       "<tr>\n",
       "  <th>Date:</th>             <td>Thu, 16 May 2019</td> <th>  Prob (F-statistic):</th>  <td> 0.671</td> \n",
       "</tr>\n",
       "<tr>\n",
       "  <th>Time:</th>                 <td>23:00:31</td>     <th>  Log-Likelihood:    </th> <td> -18.679</td>\n",
       "</tr>\n",
       "<tr>\n",
       "  <th>No. Observations:</th>      <td>    50</td>      <th>  AIC:               </th> <td>   41.36</td>\n",
       "</tr>\n",
       "<tr>\n",
       "  <th>Df Residuals:</th>          <td>    48</td>      <th>  BIC:               </th> <td>   45.18</td>\n",
       "</tr>\n",
       "<tr>\n",
       "  <th>Df Model:</th>              <td>     1</td>      <th>                     </th>     <td> </td>   \n",
       "</tr>\n",
       "<tr>\n",
       "  <th>Covariance Type:</th>      <td>nonrobust</td>    <th>                     </th>     <td> </td>   \n",
       "</tr>\n",
       "</table>\n",
       "<table class=\"simpletable\">\n",
       "<tr>\n",
       "    <td></td>       <th>coef</th>     <th>std err</th>      <th>t</th>      <th>P>|t|</th>  <th>[0.025</th>    <th>0.975]</th>  \n",
       "</tr>\n",
       "<tr>\n",
       "  <th>const</th> <td>    0.4487</td> <td>    0.074</td> <td>    6.067</td> <td> 0.000</td> <td>    0.300</td> <td>    0.597</td>\n",
       "</tr>\n",
       "<tr>\n",
       "  <th>x1</th>    <td> 1.704e-05</td> <td> 3.99e-05</td> <td>    0.427</td> <td> 0.671</td> <td>-6.32e-05</td> <td> 9.73e-05</td>\n",
       "</tr>\n",
       "</table>\n",
       "<table class=\"simpletable\">\n",
       "<tr>\n",
       "  <th>Omnibus:</th>       <td>22.476</td> <th>  Durbin-Watson:     </th> <td>   1.512</td>\n",
       "</tr>\n",
       "<tr>\n",
       "  <th>Prob(Omnibus):</th> <td> 0.000</td> <th>  Jarque-Bera (JB):  </th> <td>   4.311</td>\n",
       "</tr>\n",
       "<tr>\n",
       "  <th>Skew:</th>          <td> 0.244</td> <th>  Prob(JB):          </th> <td>   0.116</td>\n",
       "</tr>\n",
       "<tr>\n",
       "  <th>Kurtosis:</th>      <td> 1.647</td> <th>  Cond. No.          </th> <td>2.70e+03</td>\n",
       "</tr>\n",
       "</table><br/><br/>Warnings:<br/>[1] Standard Errors assume that the covariance matrix of the errors is correctly specified.<br/>[2] The condition number is large, 2.7e+03. This might indicate that there are<br/>strong multicollinearity or other numerical problems."
      ],
      "text/plain": [
       "<class 'statsmodels.iolib.summary.Summary'>\n",
       "\"\"\"\n",
       "                            OLS Regression Results                            \n",
       "==============================================================================\n",
       "Dep. Variable:                      y   R-squared:                       0.004\n",
       "Model:                            OLS   Adj. R-squared:                 -0.017\n",
       "Method:                 Least Squares   F-statistic:                    0.1823\n",
       "Date:                Thu, 16 May 2019   Prob (F-statistic):              0.671\n",
       "Time:                        23:00:31   Log-Likelihood:                -18.679\n",
       "No. Observations:                  50   AIC:                             41.36\n",
       "Df Residuals:                      48   BIC:                             45.18\n",
       "Df Model:                           1                                         \n",
       "Covariance Type:            nonrobust                                         \n",
       "==============================================================================\n",
       "                 coef    std err          t      P>|t|      [0.025      0.975]\n",
       "------------------------------------------------------------------------------\n",
       "const          0.4487      0.074      6.067      0.000       0.300       0.597\n",
       "x1          1.704e-05   3.99e-05      0.427      0.671   -6.32e-05    9.73e-05\n",
       "==============================================================================\n",
       "Omnibus:                       22.476   Durbin-Watson:                   1.512\n",
       "Prob(Omnibus):                  0.000   Jarque-Bera (JB):                4.311\n",
       "Skew:                           0.244   Prob(JB):                        0.116\n",
       "Kurtosis:                       1.647   Cond. No.                     2.70e+03\n",
       "==============================================================================\n",
       "\n",
       "Warnings:\n",
       "[1] Standard Errors assume that the covariance matrix of the errors is correctly specified.\n",
       "[2] The condition number is large, 2.7e+03. This might indicate that there are\n",
       "strong multicollinearity or other numerical problems.\n",
       "\"\"\""
      ]
     },
     "execution_count": 291,
     "metadata": {},
     "output_type": "execute_result"
    }
   ],
   "source": [
    "#running linear regression for 2018\n",
    "regression(2018)\n",
    "statistics(2018)"
   ]
  },
  {
   "cell_type": "markdown",
   "metadata": {},
   "source": [
    "### Linear Regression on Swing States"
   ]
  },
  {
   "cell_type": "code",
   "execution_count": 292,
   "metadata": {},
   "outputs": [],
   "source": [
    "#linearizing the data set for swing states\n",
    "df_percent_dem_swing = np.log10(df_percent_dem_swing)"
   ]
  },
  {
   "cell_type": "code",
   "execution_count": 294,
   "metadata": {},
   "outputs": [],
   "source": [
    "def swing_states(year):\n",
    "    x_values=df_total_violence_swing[year].values[:,np.newaxis]\n",
    "    y_values=df_percent_dem_swing[year].values[:,np.newaxis]\n",
    "\n",
    "    violence_reg = linear_model.LinearRegression()\n",
    "    violence_reg.fit(x_values, y_values)\n",
    "    prediction=violence_reg.predict(np.sort(x_values, axis=0))\n",
    "\n",
    "    pyplot.scatter(x_values, y_values)\n",
    "    pyplot.plot(np.sort(x_values, axis=0),prediction,color = 'blue')\n",
    "    return pyplot.show()\n",
    "def statistics(year):\n",
    "    x = df_total_violence_swing[year].values[:,np.newaxis]\n",
    "    y = df_percent_dem_swing[year].values[:,np.newaxis]\n",
    "    x, y = np.array(x), np.array(y)\n",
    "    x = sm.add_constant(x)\n",
    "    model = sm.OLS(y, x)\n",
    "    results = model.fit()\n",
    "    return results.summary()"
   ]
  },
  {
   "cell_type": "code",
   "execution_count": 295,
   "metadata": {},
   "outputs": [
    {
     "data": {
      "image/png": "[encoded data removed]",
      "text/plain": [
       "<Figure size 432x288 with 1 Axes>"
      ]
     },
     "metadata": {
      "needs_background": "light"
     },
     "output_type": "display_data"
    },
    {
     "name": "stderr",
     "output_type": "stream",
     "text": [
      "C:\\Users\\Victor Chi\\Anaconda3\\lib\\site-packages\\scipy\\stats\\stats.py:1416: UserWarning: kurtosistest only valid for n>=20 ... continuing anyway, n=12\n",
      "  \"anyway, n=%i\" % int(n))\n"
     ]
    },
    {
     "data": {
      "text/html": [
       "<table class=\"simpletable\">\n",
       "<caption>OLS Regression Results</caption>\n",
       "<tr>\n",
       "  <th>Dep. Variable:</th>            <td>y</td>        <th>  R-squared:         </th> <td>   0.150</td>\n",
       "</tr>\n",
       "<tr>\n",
       "  <th>Model:</th>                   <td>OLS</td>       <th>  Adj. R-squared:    </th> <td>   0.065</td>\n",
       "</tr>\n",
       "<tr>\n",
       "  <th>Method:</th>             <td>Least Squares</td>  <th>  F-statistic:       </th> <td>   1.768</td>\n",
       "</tr>\n",
       "<tr>\n",
       "  <th>Date:</th>             <td>Thu, 16 May 2019</td> <th>  Prob (F-statistic):</th>  <td> 0.213</td> \n",
       "</tr>\n",
       "<tr>\n",
       "  <th>Time:</th>                 <td>23:01:42</td>     <th>  Log-Likelihood:    </th> <td>  8.2449</td>\n",
       "</tr>\n",
       "<tr>\n",
       "  <th>No. Observations:</th>      <td>    12</td>      <th>  AIC:               </th> <td>  -12.49</td>\n",
       "</tr>\n",
       "<tr>\n",
       "  <th>Df Residuals:</th>          <td>    10</td>      <th>  BIC:               </th> <td>  -11.52</td>\n",
       "</tr>\n",
       "<tr>\n",
       "  <th>Df Model:</th>              <td>     1</td>      <th>                     </th>     <td> </td>   \n",
       "</tr>\n",
       "<tr>\n",
       "  <th>Covariance Type:</th>      <td>nonrobust</td>    <th>                     </th>     <td> </td>   \n",
       "</tr>\n",
       "</table>\n",
       "<table class=\"simpletable\">\n",
       "<tr>\n",
       "    <td></td>       <th>coef</th>     <th>std err</th>      <th>t</th>      <th>P>|t|</th>  <th>[0.025</th>    <th>0.975]</th>  \n",
       "</tr>\n",
       "<tr>\n",
       "  <th>const</th> <td>   -0.4045</td> <td>    0.068</td> <td>   -5.981</td> <td> 0.000</td> <td>   -0.555</td> <td>   -0.254</td>\n",
       "</tr>\n",
       "<tr>\n",
       "  <th>x1</th>    <td>-5.565e-05</td> <td> 4.18e-05</td> <td>   -1.330</td> <td> 0.213</td> <td>   -0.000</td> <td> 3.76e-05</td>\n",
       "</tr>\n",
       "</table>\n",
       "<table class=\"simpletable\">\n",
       "<tr>\n",
       "  <th>Omnibus:</th>       <td> 0.616</td> <th>  Durbin-Watson:     </th> <td>   2.499</td>\n",
       "</tr>\n",
       "<tr>\n",
       "  <th>Prob(Omnibus):</th> <td> 0.735</td> <th>  Jarque-Bera (JB):  </th> <td>   0.585</td>\n",
       "</tr>\n",
       "<tr>\n",
       "  <th>Skew:</th>          <td> 0.196</td> <th>  Prob(JB):          </th> <td>   0.746</td>\n",
       "</tr>\n",
       "<tr>\n",
       "  <th>Kurtosis:</th>      <td> 1.991</td> <th>  Cond. No.          </th> <td>2.84e+03</td>\n",
       "</tr>\n",
       "</table><br/><br/>Warnings:<br/>[1] Standard Errors assume that the covariance matrix of the errors is correctly specified.<br/>[2] The condition number is large, 2.84e+03. This might indicate that there are<br/>strong multicollinearity or other numerical problems."
      ],
      "text/plain": [
       "<class 'statsmodels.iolib.summary.Summary'>\n",
       "\"\"\"\n",
       "                            OLS Regression Results                            \n",
       "==============================================================================\n",
       "Dep. Variable:                      y   R-squared:                       0.150\n",
       "Model:                            OLS   Adj. R-squared:                  0.065\n",
       "Method:                 Least Squares   F-statistic:                     1.768\n",
       "Date:                Thu, 16 May 2019   Prob (F-statistic):              0.213\n",
       "Time:                        23:01:42   Log-Likelihood:                 8.2449\n",
       "No. Observations:                  12   AIC:                            -12.49\n",
       "Df Residuals:                      10   BIC:                            -11.52\n",
       "Df Model:                           1                                         \n",
       "Covariance Type:            nonrobust                                         \n",
       "==============================================================================\n",
       "                 coef    std err          t      P>|t|      [0.025      0.975]\n",
       "------------------------------------------------------------------------------\n",
       "const         -0.4045      0.068     -5.981      0.000      -0.555      -0.254\n",
       "x1         -5.565e-05   4.18e-05     -1.330      0.213      -0.000    3.76e-05\n",
       "==============================================================================\n",
       "Omnibus:                        0.616   Durbin-Watson:                   2.499\n",
       "Prob(Omnibus):                  0.735   Jarque-Bera (JB):                0.585\n",
       "Skew:                           0.196   Prob(JB):                        0.746\n",
       "Kurtosis:                       1.991   Cond. No.                     2.84e+03\n",
       "==============================================================================\n",
       "\n",
       "Warnings:\n",
       "[1] Standard Errors assume that the covariance matrix of the errors is correctly specified.\n",
       "[2] The condition number is large, 2.84e+03. This might indicate that there are\n",
       "strong multicollinearity or other numerical problems.\n",
       "\"\"\""
      ]
     },
     "execution_count": 295,
     "metadata": {},
     "output_type": "execute_result"
    }
   ],
   "source": [
    "swing_states(2014)\n",
    "statistics(2014)"
   ]
  },
  {
   "cell_type": "code",
   "execution_count": 296,
   "metadata": {},
   "outputs": [
    {
     "data": {
      "image/png": "[encoded data removed]",
      "text/plain": [
       "<Figure size 432x288 with 1 Axes>"
      ]
     },
     "metadata": {
      "needs_background": "light"
     },
     "output_type": "display_data"
    },
    {
     "name": "stderr",
     "output_type": "stream",
     "text": [
      "C:\\Users\\Victor Chi\\Anaconda3\\lib\\site-packages\\scipy\\stats\\stats.py:1416: UserWarning: kurtosistest only valid for n>=20 ... continuing anyway, n=12\n",
      "  \"anyway, n=%i\" % int(n))\n"
     ]
    },
    {
     "data": {
      "text/html": [
       "<table class=\"simpletable\">\n",
       "<caption>OLS Regression Results</caption>\n",
       "<tr>\n",
       "  <th>Dep. Variable:</th>            <td>y</td>        <th>  R-squared:         </th> <td>   0.316</td>\n",
       "</tr>\n",
       "<tr>\n",
       "  <th>Model:</th>                   <td>OLS</td>       <th>  Adj. R-squared:    </th> <td>   0.247</td>\n",
       "</tr>\n",
       "<tr>\n",
       "  <th>Method:</th>             <td>Least Squares</td>  <th>  F-statistic:       </th> <td>   4.618</td>\n",
       "</tr>\n",
       "<tr>\n",
       "  <th>Date:</th>             <td>Thu, 16 May 2019</td> <th>  Prob (F-statistic):</th>  <td>0.0572</td> \n",
       "</tr>\n",
       "<tr>\n",
       "  <th>Time:</th>                 <td>23:01:55</td>     <th>  Log-Likelihood:    </th> <td>  5.0606</td>\n",
       "</tr>\n",
       "<tr>\n",
       "  <th>No. Observations:</th>      <td>    12</td>      <th>  AIC:               </th> <td>  -6.121</td>\n",
       "</tr>\n",
       "<tr>\n",
       "  <th>Df Residuals:</th>          <td>    10</td>      <th>  BIC:               </th> <td>  -5.151</td>\n",
       "</tr>\n",
       "<tr>\n",
       "  <th>Df Model:</th>              <td>     1</td>      <th>                     </th>     <td> </td>   \n",
       "</tr>\n",
       "<tr>\n",
       "  <th>Covariance Type:</th>      <td>nonrobust</td>    <th>                     </th>     <td> </td>   \n",
       "</tr>\n",
       "</table>\n",
       "<table class=\"simpletable\">\n",
       "<tr>\n",
       "    <td></td>       <th>coef</th>     <th>std err</th>      <th>t</th>      <th>P>|t|</th>  <th>[0.025</th>    <th>0.975]</th>  \n",
       "</tr>\n",
       "<tr>\n",
       "  <th>const</th> <td>   -0.2439</td> <td>    0.089</td> <td>   -2.741</td> <td> 0.021</td> <td>   -0.442</td> <td>   -0.046</td>\n",
       "</tr>\n",
       "<tr>\n",
       "  <th>x1</th>    <td> -6.21e-05</td> <td> 2.89e-05</td> <td>   -2.149</td> <td> 0.057</td> <td>   -0.000</td> <td> 2.29e-06</td>\n",
       "</tr>\n",
       "</table>\n",
       "<table class=\"simpletable\">\n",
       "<tr>\n",
       "  <th>Omnibus:</th>       <td> 0.279</td> <th>  Durbin-Watson:     </th> <td>   2.434</td>\n",
       "</tr>\n",
       "<tr>\n",
       "  <th>Prob(Omnibus):</th> <td> 0.870</td> <th>  Jarque-Bera (JB):  </th> <td>   0.400</td>\n",
       "</tr>\n",
       "<tr>\n",
       "  <th>Skew:</th>          <td> 0.265</td> <th>  Prob(JB):          </th> <td>   0.819</td>\n",
       "</tr>\n",
       "<tr>\n",
       "  <th>Kurtosis:</th>      <td> 2.278</td> <th>  Cond. No.          </th> <td>5.46e+03</td>\n",
       "</tr>\n",
       "</table><br/><br/>Warnings:<br/>[1] Standard Errors assume that the covariance matrix of the errors is correctly specified.<br/>[2] The condition number is large, 5.46e+03. This might indicate that there are<br/>strong multicollinearity or other numerical problems."
      ],
      "text/plain": [
       "<class 'statsmodels.iolib.summary.Summary'>\n",
       "\"\"\"\n",
       "                            OLS Regression Results                            \n",
       "==============================================================================\n",
       "Dep. Variable:                      y   R-squared:                       0.316\n",
       "Model:                            OLS   Adj. R-squared:                  0.247\n",
       "Method:                 Least Squares   F-statistic:                     4.618\n",
       "Date:                Thu, 16 May 2019   Prob (F-statistic):             0.0572\n",
       "Time:                        23:01:55   Log-Likelihood:                 5.0606\n",
       "No. Observations:                  12   AIC:                            -6.121\n",
       "Df Residuals:                      10   BIC:                            -5.151\n",
       "Df Model:                           1                                         \n",
       "Covariance Type:            nonrobust                                         \n",
       "==============================================================================\n",
       "                 coef    std err          t      P>|t|      [0.025      0.975]\n",
       "------------------------------------------------------------------------------\n",
       "const         -0.2439      0.089     -2.741      0.021      -0.442      -0.046\n",
       "x1          -6.21e-05   2.89e-05     -2.149      0.057      -0.000    2.29e-06\n",
       "==============================================================================\n",
       "Omnibus:                        0.279   Durbin-Watson:                   2.434\n",
       "Prob(Omnibus):                  0.870   Jarque-Bera (JB):                0.400\n",
       "Skew:                           0.265   Prob(JB):                        0.819\n",
       "Kurtosis:                       2.278   Cond. No.                     5.46e+03\n",
       "==============================================================================\n",
       "\n",
       "Warnings:\n",
       "[1] Standard Errors assume that the covariance matrix of the errors is correctly specified.\n",
       "[2] The condition number is large, 5.46e+03. This might indicate that there are\n",
       "strong multicollinearity or other numerical problems.\n",
       "\"\"\""
      ]
     },
     "execution_count": 296,
     "metadata": {},
     "output_type": "execute_result"
    }
   ],
   "source": [
    "swing_states(2016)\n",
    "statistics(2016)"
   ]
  },
  {
   "cell_type": "code",
   "execution_count": 297,
   "metadata": {},
   "outputs": [
    {
     "data": {
      "image/png": "[encoded data removed]",
      "text/plain": [
       "<Figure size 432x288 with 1 Axes>"
      ]
     },
     "metadata": {
      "needs_background": "light"
     },
     "output_type": "display_data"
    },
    {
     "name": "stderr",
     "output_type": "stream",
     "text": [
      "C:\\Users\\Victor Chi\\Anaconda3\\lib\\site-packages\\scipy\\stats\\stats.py:1416: UserWarning: kurtosistest only valid for n>=20 ... continuing anyway, n=12\n",
      "  \"anyway, n=%i\" % int(n))\n"
     ]
    },
    {
     "data": {
      "text/html": [
       "<table class=\"simpletable\">\n",
       "<caption>OLS Regression Results</caption>\n",
       "<tr>\n",
       "  <th>Dep. Variable:</th>            <td>y</td>        <th>  R-squared:         </th> <td>   0.509</td>\n",
       "</tr>\n",
       "<tr>\n",
       "  <th>Model:</th>                   <td>OLS</td>       <th>  Adj. R-squared:    </th> <td>   0.460</td>\n",
       "</tr>\n",
       "<tr>\n",
       "  <th>Method:</th>             <td>Least Squares</td>  <th>  F-statistic:       </th> <td>   10.38</td>\n",
       "</tr>\n",
       "<tr>\n",
       "  <th>Date:</th>             <td>Thu, 16 May 2019</td> <th>  Prob (F-statistic):</th>  <td>0.00915</td>\n",
       "</tr>\n",
       "<tr>\n",
       "  <th>Time:</th>                 <td>23:02:05</td>     <th>  Log-Likelihood:    </th> <td>  7.5541</td>\n",
       "</tr>\n",
       "<tr>\n",
       "  <th>No. Observations:</th>      <td>    12</td>      <th>  AIC:               </th> <td>  -11.11</td>\n",
       "</tr>\n",
       "<tr>\n",
       "  <th>Df Residuals:</th>          <td>    10</td>      <th>  BIC:               </th> <td>  -10.14</td>\n",
       "</tr>\n",
       "<tr>\n",
       "  <th>Df Model:</th>              <td>     1</td>      <th>                     </th>     <td> </td>   \n",
       "</tr>\n",
       "<tr>\n",
       "  <th>Covariance Type:</th>      <td>nonrobust</td>    <th>                     </th>     <td> </td>   \n",
       "</tr>\n",
       "</table>\n",
       "<table class=\"simpletable\">\n",
       "<tr>\n",
       "    <td></td>       <th>coef</th>     <th>std err</th>      <th>t</th>      <th>P>|t|</th>  <th>[0.025</th>    <th>0.975]</th>  \n",
       "</tr>\n",
       "<tr>\n",
       "  <th>const</th> <td>   -0.1144</td> <td>    0.070</td> <td>   -1.637</td> <td> 0.133</td> <td>   -0.270</td> <td>    0.041</td>\n",
       "</tr>\n",
       "<tr>\n",
       "  <th>x1</th>    <td>   -0.0001</td> <td> 3.32e-05</td> <td>   -3.221</td> <td> 0.009</td> <td>   -0.000</td> <td> -3.3e-05</td>\n",
       "</tr>\n",
       "</table>\n",
       "<table class=\"simpletable\">\n",
       "<tr>\n",
       "  <th>Omnibus:</th>       <td> 0.866</td> <th>  Durbin-Watson:     </th> <td>   2.419</td>\n",
       "</tr>\n",
       "<tr>\n",
       "  <th>Prob(Omnibus):</th> <td> 0.649</td> <th>  Jarque-Bera (JB):  </th> <td>   0.600</td>\n",
       "</tr>\n",
       "<tr>\n",
       "  <th>Skew:</th>          <td>-0.490</td> <th>  Prob(JB):          </th> <td>   0.741</td>\n",
       "</tr>\n",
       "<tr>\n",
       "  <th>Kurtosis:</th>      <td> 2.510</td> <th>  Cond. No.          </th> <td>3.61e+03</td>\n",
       "</tr>\n",
       "</table><br/><br/>Warnings:<br/>[1] Standard Errors assume that the covariance matrix of the errors is correctly specified.<br/>[2] The condition number is large, 3.61e+03. This might indicate that there are<br/>strong multicollinearity or other numerical problems."
      ],
      "text/plain": [
       "<class 'statsmodels.iolib.summary.Summary'>\n",
       "\"\"\"\n",
       "                            OLS Regression Results                            \n",
       "==============================================================================\n",
       "Dep. Variable:                      y   R-squared:                       0.509\n",
       "Model:                            OLS   Adj. R-squared:                  0.460\n",
       "Method:                 Least Squares   F-statistic:                     10.38\n",
       "Date:                Thu, 16 May 2019   Prob (F-statistic):            0.00915\n",
       "Time:                        23:02:05   Log-Likelihood:                 7.5541\n",
       "No. Observations:                  12   AIC:                            -11.11\n",
       "Df Residuals:                      10   BIC:                            -10.14\n",
       "Df Model:                           1                                         \n",
       "Covariance Type:            nonrobust                                         \n",
       "==============================================================================\n",
       "                 coef    std err          t      P>|t|      [0.025      0.975]\n",
       "------------------------------------------------------------------------------\n",
       "const         -0.1144      0.070     -1.637      0.133      -0.270       0.041\n",
       "x1            -0.0001   3.32e-05     -3.221      0.009      -0.000    -3.3e-05\n",
       "==============================================================================\n",
       "Omnibus:                        0.866   Durbin-Watson:                   2.419\n",
       "Prob(Omnibus):                  0.649   Jarque-Bera (JB):                0.600\n",
       "Skew:                          -0.490   Prob(JB):                        0.741\n",
       "Kurtosis:                       2.510   Cond. No.                     3.61e+03\n",
       "==============================================================================\n",
       "\n",
       "Warnings:\n",
       "[1] Standard Errors assume that the covariance matrix of the errors is correctly specified.\n",
       "[2] The condition number is large, 3.61e+03. This might indicate that there are\n",
       "strong multicollinearity or other numerical problems.\n",
       "\"\"\""
      ]
     },
     "execution_count": 297,
     "metadata": {},
     "output_type": "execute_result"
    }
   ],
   "source": [
    "swing_states(2018)\n",
    "statistics(2018)"
   ]
  },
  {
   "cell_type": "markdown",
   "metadata": {},
   "source": [
    "### Final Table Results"
   ]
  },
  {
   "cell_type": "markdown",
   "metadata": {},
   "source": [
    "## Ethics and Privacy\n",
    "\n",
    "Since we used two data sets from two different websites, we can take a look at each one individually and discuss concerns and how they were handled.\n",
    "\n",
    "The first data set was regarding gun violence from Kaggle. Kaggle is a great source for publicly available data sets without any restrictions. This data set listed all gun violence incidents throughout the US over several years, with extensive details regarding the incident. The list itself does contain concerning data, such as extensive details on the gun violence event such as city, ages of those involved and exact latitude and longitude. Also, it contains links to articles on each gun incident which could lead to an article posting the names of either the criminals or victims. Since all of this information is outside the scope of our project and there are other more vague, columns that satisfy our needs, we chose to drop all columns except those that were broad and assisted in our analysis. This data came from [the Gun Violence Archive](http://www.gunviolencearchive.org/), whos main goal is to spread data regarding gun violence without taking a side. While the data itself my not seem bias, it is concerning that the website also has a \"Analysis & Opinion\" section, which obviously displays bias within the organization itself. Fortunately, with such a vast data set we believe that the data itself is sufficient for analysis.\n",
    "\n",
    "The second data set was extremely difficult to obtain through the [website](http://library.cqpress.com/elections/index.php) we used. The CQ Voting website had an institution lock and user download restrictions that made it difficult to obtain and utilize the data. CQ does allow users to view and download the data for their personal analysis, but they make it challenging to do so. The data itself was fairly clean, but included the full names of political candidates running in the election. Since their names are unrelated to our data analysis, we removed all columns except year, state and plurality party. Just from looking through the CQ website, we were unable to find any bias of concern in the data."
   ]
  },
  {
   "cell_type": "markdown",
   "metadata": {},
   "source": [
    "## Conclusion\n",
    "\n",
    "Evan will write\n",
    "\n",
    "1. more negative values mean more democrats.\n",
    "2. p value over .05 means no signifance and accept the null hypothesis\n",
    "3. talk about how coefficeint means moving each step by that value means that we see no effect happening."
   ]
  },
  {
   "cell_type": "markdown",
   "metadata": {},
   "source": [
    "# # References\n",
    "\n",
    "https://www.washingtonpost.com/news/wonk/wp/2018/05/31/the-surprising-way-gun-violence-is-dividing-america/?noredirect=on&utm_term=.583b6e1bf7f8\n",
    "\n",
    "https://www.gunviolencearchive.org/reports/mass-shooting"
   ]
  }
 ],
 "metadata": {
  "kernelspec": {
   "display_name": "Python 3",
   "language": "python",
   "name": "python3"
  },
  "language_info": {
   "codemirror_mode": {
    "name": "ipython",
    "version": 3
   },
   "file_extension": ".py",
   "mimetype": "text/x-python",
   "name": "python",
   "nbconvert_exporter": "python",
   "pygments_lexer": "ipython3",
   "version": "3.7.3"
  }
 },
 "nbformat": 4,
 "nbformat_minor": 2
}
